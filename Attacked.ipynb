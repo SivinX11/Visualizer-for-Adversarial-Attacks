{
  "nbformat": 4,
  "nbformat_minor": 0,
  "metadata": {
    "colab": {
      "name": "Attacked.ipynb",
      "provenance": []
    },
    "kernelspec": {
      "name": "python3",
      "display_name": "Python 3"
    }
  },
  "cells": [
    {
      "cell_type": "code",
      "metadata": {
        "id": "No5Gzjs5YK9Q",
        "colab_type": "code",
        "colab": {
          "base_uri": "https://localhost:8080/",
          "height": 870
        },
        "outputId": "e18eaba8-5383-4554-f95b-7a1689e6198b"
      },
      "source": [
        "pip install adversarial-robustness-toolbox\n"
      ],
      "execution_count": 1,
      "outputs": [
        {
          "output_type": "stream",
          "text": [
            "Collecting adversarial-robustness-toolbox\n",
            "\u001b[?25l  Downloading https://files.pythonhosted.org/packages/1b/32/58fe1a0a17ccbab0749ef11b704ccd0980b3521edb91f5a3b9d62abbbbd9/adversarial_robustness_toolbox-1.3.3-py3-none-any.whl (654kB)\n",
            "\u001b[K     |████████████████████████████████| 655kB 2.8MB/s \n",
            "\u001b[?25hRequirement already satisfied: six in /usr/local/lib/python3.6/dist-packages (from adversarial-robustness-toolbox) (1.15.0)\n",
            "Requirement already satisfied: setuptools in /usr/local/lib/python3.6/dist-packages (from adversarial-robustness-toolbox) (49.6.0)\n",
            "Requirement already satisfied: tqdm in /usr/local/lib/python3.6/dist-packages (from adversarial-robustness-toolbox) (4.41.1)\n",
            "Requirement already satisfied: scipy==1.4.1 in /usr/local/lib/python3.6/dist-packages (from adversarial-robustness-toolbox) (1.4.1)\n",
            "Collecting pydub\n",
            "  Downloading https://files.pythonhosted.org/packages/7b/d1/fbfa79371a8cd9bb15c2e3c480d7e6e340ed5cc55005174e16f48418333a/pydub-0.24.1-py2.py3-none-any.whl\n",
            "Collecting ffmpeg-python\n",
            "  Downloading https://files.pythonhosted.org/packages/d7/0c/56be52741f75bad4dc6555991fabd2e07b432d333da82c11ad701123888a/ffmpeg_python-0.2.0-py3-none-any.whl\n",
            "Collecting mypy\n",
            "\u001b[?25l  Downloading https://files.pythonhosted.org/packages/14/9d/914bb0c71292ffd7e1c9728b9366f9ea34c874f5ca12ac6005a400e4d130/mypy-0.782-cp36-cp36m-manylinux1_x86_64.whl (20.8MB)\n",
            "\u001b[K     |████████████████████████████████| 20.8MB 1.2MB/s \n",
            "\u001b[?25hCollecting cma\n",
            "\u001b[?25l  Downloading https://files.pythonhosted.org/packages/36/c0/0a1c41f7cad0a51e07991cf86423d0e6651d035f1fe7dcff48e8858848f2/cma-3.0.3-py2.py3-none-any.whl (230kB)\n",
            "\u001b[K     |████████████████████████████████| 235kB 39.7MB/s \n",
            "\u001b[?25hRequirement already satisfied: Pillow in /usr/local/lib/python3.6/dist-packages (from adversarial-robustness-toolbox) (7.0.0)\n",
            "Collecting scikit-learn==0.23.2\n",
            "\u001b[?25l  Downloading https://files.pythonhosted.org/packages/5c/a1/273def87037a7fb010512bbc5901c31cfddfca8080bc63b42b26e3cc55b3/scikit_learn-0.23.2-cp36-cp36m-manylinux1_x86_64.whl (6.8MB)\n",
            "\u001b[K     |████████████████████████████████| 6.8MB 42.9MB/s \n",
            "\u001b[?25hRequirement already satisfied: numpy in /usr/local/lib/python3.6/dist-packages (from adversarial-robustness-toolbox) (1.18.5)\n",
            "Requirement already satisfied: statsmodels in /usr/local/lib/python3.6/dist-packages (from adversarial-robustness-toolbox) (0.10.2)\n",
            "Requirement already satisfied: resampy in /usr/local/lib/python3.6/dist-packages (from adversarial-robustness-toolbox) (0.2.2)\n",
            "Requirement already satisfied: matplotlib in /usr/local/lib/python3.6/dist-packages (from adversarial-robustness-toolbox) (3.2.2)\n",
            "Requirement already satisfied: future in /usr/local/lib/python3.6/dist-packages (from ffmpeg-python->adversarial-robustness-toolbox) (0.16.0)\n",
            "Collecting typed-ast<1.5.0,>=1.4.0\n",
            "\u001b[?25l  Downloading https://files.pythonhosted.org/packages/90/ed/5459080d95eb87a02fe860d447197be63b6e2b5e9ff73c2b0a85622994f4/typed_ast-1.4.1-cp36-cp36m-manylinux1_x86_64.whl (737kB)\n",
            "\u001b[K     |████████████████████████████████| 747kB 39.7MB/s \n",
            "\u001b[?25hCollecting mypy-extensions<0.5.0,>=0.4.3\n",
            "  Downloading https://files.pythonhosted.org/packages/5c/eb/975c7c080f3223a5cdaff09612f3a5221e4ba534f7039db34c35d95fa6a5/mypy_extensions-0.4.3-py2.py3-none-any.whl\n",
            "Requirement already satisfied: typing-extensions>=3.7.4 in /usr/local/lib/python3.6/dist-packages (from mypy->adversarial-robustness-toolbox) (3.7.4.3)\n",
            "Collecting threadpoolctl>=2.0.0\n",
            "  Downloading https://files.pythonhosted.org/packages/f7/12/ec3f2e203afa394a149911729357aa48affc59c20e2c1c8297a60f33f133/threadpoolctl-2.1.0-py3-none-any.whl\n",
            "Requirement already satisfied: joblib>=0.11 in /usr/local/lib/python3.6/dist-packages (from scikit-learn==0.23.2->adversarial-robustness-toolbox) (0.16.0)\n",
            "Requirement already satisfied: pandas>=0.19 in /usr/local/lib/python3.6/dist-packages (from statsmodels->adversarial-robustness-toolbox) (1.0.5)\n",
            "Requirement already satisfied: patsy>=0.4.0 in /usr/local/lib/python3.6/dist-packages (from statsmodels->adversarial-robustness-toolbox) (0.5.1)\n",
            "Requirement already satisfied: numba>=0.32 in /usr/local/lib/python3.6/dist-packages (from resampy->adversarial-robustness-toolbox) (0.48.0)\n",
            "Requirement already satisfied: kiwisolver>=1.0.1 in /usr/local/lib/python3.6/dist-packages (from matplotlib->adversarial-robustness-toolbox) (1.2.0)\n",
            "Requirement already satisfied: python-dateutil>=2.1 in /usr/local/lib/python3.6/dist-packages (from matplotlib->adversarial-robustness-toolbox) (2.8.1)\n",
            "Requirement already satisfied: pyparsing!=2.0.4,!=2.1.2,!=2.1.6,>=2.0.1 in /usr/local/lib/python3.6/dist-packages (from matplotlib->adversarial-robustness-toolbox) (2.4.7)\n",
            "Requirement already satisfied: cycler>=0.10 in /usr/local/lib/python3.6/dist-packages (from matplotlib->adversarial-robustness-toolbox) (0.10.0)\n",
            "Requirement already satisfied: pytz>=2017.2 in /usr/local/lib/python3.6/dist-packages (from pandas>=0.19->statsmodels->adversarial-robustness-toolbox) (2018.9)\n",
            "Requirement already satisfied: llvmlite<0.32.0,>=0.31.0dev0 in /usr/local/lib/python3.6/dist-packages (from numba>=0.32->resampy->adversarial-robustness-toolbox) (0.31.0)\n",
            "Installing collected packages: pydub, ffmpeg-python, typed-ast, mypy-extensions, mypy, cma, threadpoolctl, scikit-learn, adversarial-robustness-toolbox\n",
            "  Found existing installation: scikit-learn 0.22.2.post1\n",
            "    Uninstalling scikit-learn-0.22.2.post1:\n",
            "      Successfully uninstalled scikit-learn-0.22.2.post1\n",
            "Successfully installed adversarial-robustness-toolbox-1.3.3 cma-3.0.3 ffmpeg-python-0.2.0 mypy-0.782 mypy-extensions-0.4.3 pydub-0.24.1 scikit-learn-0.23.2 threadpoolctl-2.1.0 typed-ast-1.4.1\n"
          ],
          "name": "stdout"
        }
      ]
    },
    {
      "cell_type": "code",
      "metadata": {
        "id": "scQ82k9pYZ2a",
        "colab_type": "code",
        "colab": {}
      },
      "source": [
        "import torch.nn as nn\n",
        "import torch.nn.functional as F\n",
        "import torch.optim as optim\n",
        "import numpy as np\n",
        "import torch\n",
        "import torchvision.models as models\n",
        "from torchvision import transforms as T\n",
        "\n",
        "from PIL import Image\n",
        "from art.attacks.evasion import DeepFool\n",
        "from art.estimators.classification import PyTorchClassifier\n",
        "from art.utils import load_mnist\n"
      ],
      "execution_count": 225,
      "outputs": []
    },
    {
      "cell_type": "code",
      "metadata": {
        "id": "Fipt2ixSZjV6",
        "colab_type": "code",
        "colab": {}
      },
      "source": [
        "transform = T.Compose([            \n",
        " T.Resize(256),                    \n",
        " T.CenterCrop(224),                \n",
        " T.ToTensor(),                     \n",
        " T.Normalize(mean=[0.485, 0.456, 0.406],\n",
        "             std=[0.229, 0.224, 0.225])\n",
        " ])\n"
      ],
      "execution_count": 272,
      "outputs": []
    },
    {
      "cell_type": "code",
      "metadata": {
        "id": "NVCMTbGTYt6_",
        "colab_type": "code",
        "colab": {}
      },
      "source": [
        "import urllib\n",
        "url, filename = (\"https://cdn.mos.cms.futurecdn.net/6t8Zh249QiFmVnkQdCCtHK-320-80.jpg\", \"example.jpg\")\n",
        "try: urllib.URLopener().retrieve(url, filename)\n",
        "except: urllib.request.urlretrieve(url, filename)\n",
        "\n",
        "img = Image.open('dog.jpeg')\n",
        "transformed_img = transform(img)\n",
        "input_img = transformed_img.unsqueeze(0)"
      ],
      "execution_count": 273,
      "outputs": []
    },
    {
      "cell_type": "code",
      "metadata": {
        "id": "qWyzfiiHZL0U",
        "colab_type": "code",
        "colab": {
          "base_uri": "https://localhost:8080/",
          "height": 68
        },
        "outputId": "3a1bdaa6-00d7-4b16-fe28-a29d3d651bc0"
      },
      "source": [
        "arr = []\n",
        "image_array = np.asarray(img)\n",
        "\n",
        "x = np.moveaxis(image_array, -1, 0)\n",
        "arr.append(x)\n",
        "arr = np.array(arr, dtype = 'float32')\n",
        "\n",
        "print(\"Expected\",image_array.shape)\n",
        "print(\"Current\", x.shape)\n",
        "\n",
        "z =  np.moveaxis(x, 0, -1)\n",
        "print(\"Try\",z.shape)"
      ],
      "execution_count": 274,
      "outputs": [
        {
          "output_type": "stream",
          "text": [
            "Expected (194, 259, 3)\n",
            "Current (3, 194, 259)\n",
            "Try (194, 259, 3)\n"
          ],
          "name": "stdout"
        }
      ]
    },
    {
      "cell_type": "code",
      "metadata": {
        "id": "kozorFJp1I55",
        "colab_type": "code",
        "colab": {}
      },
      "source": [
        "model = models.resnet18(pretrained=True)\n",
        "\n",
        "criterion = nn.CrossEntropyLoss()\n",
        "optimizer = optim.Adam(model.parameters(), lr=0.01)\n",
        "\n",
        "classifier = PyTorchClassifier(\n",
        "    model=model,\n",
        "    clip_values=(0, 1),\n",
        "    loss=criterion,\n",
        "    optimizer=optimizer,\n",
        "    input_shape=(3, 224, 224),\n",
        "    nb_classes=1000,\n",
        ")"
      ],
      "execution_count": 275,
      "outputs": []
    },
    {
      "cell_type": "code",
      "metadata": {
        "id": "IIY0SsguZw7L",
        "colab_type": "code",
        "colab": {}
      },
      "source": [
        "attack = FastGradientMethod(estimator = classifier)\n",
        "advx = attack.generate(x=arr)\n"
      ],
      "execution_count": 278,
      "outputs": []
    },
    {
      "cell_type": "code",
      "metadata": {
        "id": "aixZyieSamKV",
        "colab_type": "code",
        "colab": {
          "base_uri": "https://localhost:8080/",
          "height": 34
        },
        "outputId": "f411bd2b-16e8-445d-e698-d0cd8a3006e5"
      },
      "source": [
        "print(advx[0].shape)\n",
        "res = np.moveaxis(advx[0], 0 , 2)\n",
        "\n",
        "output_image = Image.fromarray(res, 'RGB')\n",
        "output_image.save('dog_FGSM.jpg')\n",
        "\n",
        "img.show()"
      ],
      "execution_count": 279,
      "outputs": [
        {
          "output_type": "stream",
          "text": [
            "(3, 194, 259)\n"
          ],
          "name": "stdout"
        }
      ]
    },
    {
      "cell_type": "code",
      "metadata": {
        "id": "_I8lVVsw2TVh",
        "colab_type": "code",
        "colab": {
          "base_uri": "https://localhost:8080/",
          "height": 68
        },
        "outputId": "a3df069b-0361-4fd2-e18e-a1b18407d2bd"
      },
      "source": [
        "print(advx[0].shape)\n",
        "print(x.shape)\n",
        "print(image_array.shape)"
      ],
      "execution_count": 214,
      "outputs": [
        {
          "output_type": "stream",
          "text": [
            "(3, 194, 259)\n",
            "(3, 194, 259)\n",
            "(194, 259, 3)\n"
          ],
          "name": "stdout"
        }
      ]
    },
    {
      "cell_type": "code",
      "metadata": {
        "id": "lb1y_XG04w2q",
        "colab_type": "code",
        "colab": {}
      },
      "source": [
        ""
      ],
      "execution_count": 214,
      "outputs": []
    },
    {
      "cell_type": "markdown",
      "metadata": {
        "id": "nZ5DxGAc4vjQ",
        "colab_type": "text"
      },
      "source": [
        "#**Classifier for original**\n"
      ]
    },
    {
      "cell_type": "code",
      "metadata": {
        "id": "ASBA3_A_3eYc",
        "colab_type": "code",
        "colab": {}
      },
      "source": [
        "model = models.resnet18(pretrained=True).eval()\n"
      ],
      "execution_count": 163,
      "outputs": []
    },
    {
      "cell_type": "code",
      "metadata": {
        "id": "7SiJ4Nrk49K6",
        "colab_type": "code",
        "colab": {}
      },
      "source": [
        "transform = T.Compose([            \n",
        " T.Resize(256),                    \n",
        " T.CenterCrop(224),                \n",
        " T.ToTensor(),                     \n",
        " T.Normalize(mean=[0.485, 0.456, 0.406],\n",
        "             std=[0.229, 0.224, 0.225])\n",
        " ])\n"
      ],
      "execution_count": 164,
      "outputs": []
    },
    {
      "cell_type": "code",
      "metadata": {
        "id": "yy39Sd0a4qgF",
        "colab_type": "code",
        "colab": {}
      },
      "source": [
        "img = Image.open('dog.jpeg')\n",
        "transformed_img = transform(img)\n",
        "input_img = transformed_img.unsqueeze(0)"
      ],
      "execution_count": 165,
      "outputs": []
    },
    {
      "cell_type": "code",
      "metadata": {
        "id": "MvbZmUDk5USK",
        "colab_type": "code",
        "colab": {
          "base_uri": "https://localhost:8080/",
          "height": 34
        },
        "outputId": "cd660898-37ff-462f-e6df-b4c9ad730932"
      },
      "source": [
        "output = model(input_img)\n",
        "print(output.shape)"
      ],
      "execution_count": 166,
      "outputs": [
        {
          "output_type": "stream",
          "text": [
            "torch.Size([1, 1000])\n"
          ],
          "name": "stdout"
        }
      ]
    },
    {
      "cell_type": "code",
      "metadata": {
        "id": "6heT8bVS5hQE",
        "colab_type": "code",
        "colab": {}
      },
      "source": [
        "with open('imagenet_classes.txt') as f:\n",
        "  classes = [line.strip() for line in f.readlines()]"
      ],
      "execution_count": 167,
      "outputs": []
    },
    {
      "cell_type": "code",
      "metadata": {
        "id": "e48Of0aD5nqk",
        "colab_type": "code",
        "colab": {
          "base_uri": "https://localhost:8080/",
          "height": 102
        },
        "outputId": "4823b26b-dac0-491b-af2e-a532781a89a9"
      },
      "source": [
        "_, indices = torch.sort(output, descending=True)\n",
        "[(classes[idx], percentage[idx].item()) for idx in indices[0][:5]]\n"
      ],
      "execution_count": 168,
      "outputs": [
        {
          "output_type": "execute_result",
          "data": {
            "text/plain": [
              "[('kuvasz', 0.12053955346345901),\n",
              " ('golden retriever', 0.1469627320766449),\n",
              " ('Great Pyrenees', 0.012410273775458336),\n",
              " ('Labrador retriever', 0.0342085026204586),\n",
              " ('clumber, clumber spaniel', 0.10219232738018036)]"
            ]
          },
          "metadata": {
            "tags": []
          },
          "execution_count": 168
        }
      ]
    },
    {
      "cell_type": "markdown",
      "metadata": {
        "id": "WTYQixFZ7CNL",
        "colab_type": "text"
      },
      "source": [
        "#**Adversarial**"
      ]
    },
    {
      "cell_type": "code",
      "metadata": {
        "id": "U4Q8ZZTb5p-E",
        "colab_type": "code",
        "colab": {}
      },
      "source": [
        "imgx = Image.open('advxxxdog_FGSM.jpg')\n",
        "transformed_img = transform(img)\n",
        "input_img = transformed_img.unsqueeze(0)"
      ],
      "execution_count": 169,
      "outputs": []
    },
    {
      "cell_type": "code",
      "metadata": {
        "id": "zAJLF9zN7K15",
        "colab_type": "code",
        "colab": {
          "base_uri": "https://localhost:8080/",
          "height": 34
        },
        "outputId": "cd2dfc61-e7e2-46d4-e0a3-4bf94ea5b781"
      },
      "source": [
        "output = model(input_img)\n",
        "print(output.shape)"
      ],
      "execution_count": 170,
      "outputs": [
        {
          "output_type": "stream",
          "text": [
            "torch.Size([1, 1000])\n"
          ],
          "name": "stdout"
        }
      ]
    },
    {
      "cell_type": "code",
      "metadata": {
        "id": "mPbYXXPN7Nzi",
        "colab_type": "code",
        "colab": {}
      },
      "source": [
        "with open('imagenet_classes.txt') as f:\n",
        "  classes = [line.strip() for line in f.readlines()]"
      ],
      "execution_count": 171,
      "outputs": []
    },
    {
      "cell_type": "code",
      "metadata": {
        "id": "tLM0xPt47QVs",
        "colab_type": "code",
        "colab": {
          "base_uri": "https://localhost:8080/",
          "height": 102
        },
        "outputId": "cc7ec1ba-2fb5-495b-9f0f-bfaaa1f5701f"
      },
      "source": [
        "_, indices = torch.sort(output, descending=True)\n",
        "[(classes[idx], percentage[idx].item()) for idx in indices[0][:5]]"
      ],
      "execution_count": 172,
      "outputs": [
        {
          "output_type": "execute_result",
          "data": {
            "text/plain": [
              "[('kuvasz', 0.12053955346345901),\n",
              " ('golden retriever', 0.1469627320766449),\n",
              " ('Great Pyrenees', 0.012410273775458336),\n",
              " ('Labrador retriever', 0.0342085026204586),\n",
              " ('clumber, clumber spaniel', 0.10219232738018036)]"
            ]
          },
          "metadata": {
            "tags": []
          },
          "execution_count": 172
        }
      ]
    },
    {
      "cell_type": "markdown",
      "metadata": {
        "id": "MMpo8_9OBLS1",
        "colab_type": "text"
      },
      "source": [
        "#*Adversarial + original*"
      ]
    },
    {
      "cell_type": "code",
      "metadata": {
        "id": "uL9Uca6p7SWW",
        "colab_type": "code",
        "colab": {}
      },
      "source": [
        ""
      ],
      "execution_count": 172,
      "outputs": []
    }
  ]
}