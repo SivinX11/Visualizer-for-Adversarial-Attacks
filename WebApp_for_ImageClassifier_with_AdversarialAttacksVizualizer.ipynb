{
  "nbformat": 4,
  "nbformat_minor": 0,
  "metadata": {
    "colab": {
      "name": "WebApp_for_ImageClassifier_with_AdversarialAttacksVizualizer.ipynb",
      "provenance": [],
      "collapsed_sections": []
    },
    "kernelspec": {
      "name": "python3",
      "display_name": "Python 3"
    }
  },
  "cells": [
    {
      "cell_type": "code",
      "metadata": {
        "id": "KXM5plkCc0fK",
        "colab_type": "code",
        "colab": {
          "base_uri": "https://localhost:8080/",
          "height": 1000
        },
        "outputId": "1bd7f8b7-7a18-460d-9d87-8c2d6877b4c3"
      },
      "source": [
        "!pip install streamlit"
      ],
      "execution_count": 56,
      "outputs": [
        {
          "output_type": "stream",
          "text": [
            "Collecting streamlit\n",
            "\u001b[?25l  Downloading https://files.pythonhosted.org/packages/73/f2/03193332b9ced126141f095a7b0b75a1a5f43665aa1e4eb58d7cc0f69977/streamlit-0.66.0-py2.py3-none-any.whl (7.2MB)\n",
            "\u001b[K     |████████████████████████████████| 7.2MB 2.6MB/s \n",
            "\u001b[?25hCollecting validators\n",
            "  Downloading https://files.pythonhosted.org/packages/41/4a/3360ff3cf2b4a1b9721ac1fbff5f84663f41047d9874b3aa1ac82e862c44/validators-0.18.1-py3-none-any.whl\n",
            "Requirement already satisfied: boto3 in /usr/local/lib/python3.6/dist-packages (from streamlit) (1.14.48)\n",
            "Requirement already satisfied: numpy in /usr/local/lib/python3.6/dist-packages (from streamlit) (1.18.5)\n",
            "Requirement already satisfied: pandas>=0.21.0 in /usr/local/lib/python3.6/dist-packages (from streamlit) (1.0.5)\n",
            "Requirement already satisfied: toml in /usr/local/lib/python3.6/dist-packages (from streamlit) (0.10.1)\n",
            "Requirement already satisfied: python-dateutil in /usr/local/lib/python3.6/dist-packages (from streamlit) (2.8.1)\n",
            "Collecting enum-compat\n",
            "  Downloading https://files.pythonhosted.org/packages/55/ae/467bc4509246283bb59746e21a1a2f5a8aecbef56b1fa6eaca78cd438c8b/enum_compat-0.0.3-py3-none-any.whl\n",
            "Requirement already satisfied: pillow>=6.2.0 in /usr/local/lib/python3.6/dist-packages (from streamlit) (7.0.0)\n",
            "Requirement already satisfied: tornado>=5.0 in /usr/local/lib/python3.6/dist-packages (from streamlit) (5.1.1)\n",
            "Collecting pydeck>=0.1.dev5\n",
            "\u001b[?25l  Downloading https://files.pythonhosted.org/packages/51/1e/296f4108bf357e684617a776ecaf06ee93b43e30c35996dfac1aa985aa6c/pydeck-0.5.0b1-py2.py3-none-any.whl (4.4MB)\n",
            "\u001b[K     |████████████████████████████████| 4.4MB 40.9MB/s \n",
            "\u001b[?25hCollecting blinker\n",
            "\u001b[?25l  Downloading https://files.pythonhosted.org/packages/1b/51/e2a9f3b757eb802f61dc1f2b09c8c99f6eb01cf06416c0671253536517b6/blinker-1.4.tar.gz (111kB)\n",
            "\u001b[K     |████████████████████████████████| 112kB 48.9MB/s \n",
            "\u001b[?25hRequirement already satisfied: astor in /usr/local/lib/python3.6/dist-packages (from streamlit) (0.8.1)\n",
            "Requirement already satisfied: tzlocal in /usr/local/lib/python3.6/dist-packages (from streamlit) (1.5.1)\n",
            "Collecting watchdog\n",
            "\u001b[?25l  Downloading https://files.pythonhosted.org/packages/0e/06/121302598a4fc01aca942d937f4a2c33430b7181137b35758913a8db10ad/watchdog-0.10.3.tar.gz (94kB)\n",
            "\u001b[K     |████████████████████████████████| 102kB 9.5MB/s \n",
            "\u001b[?25hRequirement already satisfied: requests in /usr/local/lib/python3.6/dist-packages (from streamlit) (2.23.0)\n",
            "Collecting base58\n",
            "  Downloading https://files.pythonhosted.org/packages/3c/03/58572025c77b9e6027155b272a1b96298e711cd4f95c24967f7137ab0c4b/base58-2.0.1-py3-none-any.whl\n",
            "Requirement already satisfied: cachetools>=4.0 in /usr/local/lib/python3.6/dist-packages (from streamlit) (4.1.1)\n",
            "Requirement already satisfied: protobuf>=3.6.0 in /usr/local/lib/python3.6/dist-packages (from streamlit) (3.12.4)\n",
            "Requirement already satisfied: altair>=3.2.0 in /usr/local/lib/python3.6/dist-packages (from streamlit) (4.1.0)\n",
            "Requirement already satisfied: botocore>=1.13.44 in /usr/local/lib/python3.6/dist-packages (from streamlit) (1.17.48)\n",
            "Requirement already satisfied: click>=7.0 in /usr/local/lib/python3.6/dist-packages (from streamlit) (7.1.2)\n",
            "Requirement already satisfied: packaging in /usr/local/lib/python3.6/dist-packages (from streamlit) (20.4)\n",
            "Requirement already satisfied: pyarrow in /usr/local/lib/python3.6/dist-packages (from streamlit) (0.14.1)\n",
            "Requirement already satisfied: decorator>=3.4.0 in /usr/local/lib/python3.6/dist-packages (from validators->streamlit) (4.4.2)\n",
            "Requirement already satisfied: six>=1.4.0 in /usr/local/lib/python3.6/dist-packages (from validators->streamlit) (1.15.0)\n",
            "Requirement already satisfied: jmespath<1.0.0,>=0.7.1 in /usr/local/lib/python3.6/dist-packages (from boto3->streamlit) (0.10.0)\n",
            "Requirement already satisfied: s3transfer<0.4.0,>=0.3.0 in /usr/local/lib/python3.6/dist-packages (from boto3->streamlit) (0.3.3)\n",
            "Requirement already satisfied: pytz>=2017.2 in /usr/local/lib/python3.6/dist-packages (from pandas>=0.21.0->streamlit) (2018.9)\n",
            "Requirement already satisfied: traitlets>=4.3.2 in /usr/local/lib/python3.6/dist-packages (from pydeck>=0.1.dev5->streamlit) (4.3.3)\n",
            "Requirement already satisfied: jinja2>=2.10.1 in /usr/local/lib/python3.6/dist-packages (from pydeck>=0.1.dev5->streamlit) (2.11.2)\n",
            "Requirement already satisfied: ipywidgets>=7.0.0 in /usr/local/lib/python3.6/dist-packages (from pydeck>=0.1.dev5->streamlit) (7.5.1)\n",
            "Collecting ipykernel>=5.1.2; python_version >= \"3.4\"\n",
            "\u001b[?25l  Downloading https://files.pythonhosted.org/packages/52/19/c2812690d8b340987eecd2cbc18549b1d130b94c5d97fcbe49f5f8710edf/ipykernel-5.3.4-py3-none-any.whl (120kB)\n",
            "\u001b[K     |████████████████████████████████| 122kB 42.7MB/s \n",
            "\u001b[?25hCollecting pathtools>=0.1.1\n",
            "  Downloading https://files.pythonhosted.org/packages/e7/7f/470d6fcdf23f9f3518f6b0b76be9df16dcc8630ad409947f8be2eb0ed13a/pathtools-0.1.2.tar.gz\n",
            "Requirement already satisfied: certifi>=2017.4.17 in /usr/local/lib/python3.6/dist-packages (from requests->streamlit) (2020.6.20)\n",
            "Requirement already satisfied: idna<3,>=2.5 in /usr/local/lib/python3.6/dist-packages (from requests->streamlit) (2.10)\n",
            "Requirement already satisfied: chardet<4,>=3.0.2 in /usr/local/lib/python3.6/dist-packages (from requests->streamlit) (3.0.4)\n",
            "Requirement already satisfied: urllib3!=1.25.0,!=1.25.1,<1.26,>=1.21.1 in /usr/local/lib/python3.6/dist-packages (from requests->streamlit) (1.24.3)\n",
            "Requirement already satisfied: setuptools in /usr/local/lib/python3.6/dist-packages (from protobuf>=3.6.0->streamlit) (49.6.0)\n",
            "Requirement already satisfied: toolz in /usr/local/lib/python3.6/dist-packages (from altair>=3.2.0->streamlit) (0.10.0)\n",
            "Requirement already satisfied: jsonschema in /usr/local/lib/python3.6/dist-packages (from altair>=3.2.0->streamlit) (2.6.0)\n",
            "Requirement already satisfied: entrypoints in /usr/local/lib/python3.6/dist-packages (from altair>=3.2.0->streamlit) (0.3)\n",
            "Requirement already satisfied: docutils<0.16,>=0.10 in /usr/local/lib/python3.6/dist-packages (from botocore>=1.13.44->streamlit) (0.15.2)\n",
            "Requirement already satisfied: pyparsing>=2.0.2 in /usr/local/lib/python3.6/dist-packages (from packaging->streamlit) (2.4.7)\n",
            "Requirement already satisfied: ipython-genutils in /usr/local/lib/python3.6/dist-packages (from traitlets>=4.3.2->pydeck>=0.1.dev5->streamlit) (0.2.0)\n",
            "Requirement already satisfied: MarkupSafe>=0.23 in /usr/local/lib/python3.6/dist-packages (from jinja2>=2.10.1->pydeck>=0.1.dev5->streamlit) (1.1.1)\n",
            "Requirement already satisfied: widgetsnbextension~=3.5.0 in /usr/local/lib/python3.6/dist-packages (from ipywidgets>=7.0.0->pydeck>=0.1.dev5->streamlit) (3.5.1)\n",
            "Requirement already satisfied: nbformat>=4.2.0 in /usr/local/lib/python3.6/dist-packages (from ipywidgets>=7.0.0->pydeck>=0.1.dev5->streamlit) (5.0.7)\n",
            "Requirement already satisfied: ipython>=4.0.0; python_version >= \"3.3\" in /usr/local/lib/python3.6/dist-packages (from ipywidgets>=7.0.0->pydeck>=0.1.dev5->streamlit) (5.5.0)\n",
            "Requirement already satisfied: jupyter-client in /usr/local/lib/python3.6/dist-packages (from ipykernel>=5.1.2; python_version >= \"3.4\"->pydeck>=0.1.dev5->streamlit) (5.3.5)\n",
            "Requirement already satisfied: notebook>=4.4.1 in /usr/local/lib/python3.6/dist-packages (from widgetsnbextension~=3.5.0->ipywidgets>=7.0.0->pydeck>=0.1.dev5->streamlit) (5.3.1)\n",
            "Requirement already satisfied: jupyter-core in /usr/local/lib/python3.6/dist-packages (from nbformat>=4.2.0->ipywidgets>=7.0.0->pydeck>=0.1.dev5->streamlit) (4.6.3)\n",
            "Requirement already satisfied: prompt-toolkit<2.0.0,>=1.0.4 in /usr/local/lib/python3.6/dist-packages (from ipython>=4.0.0; python_version >= \"3.3\"->ipywidgets>=7.0.0->pydeck>=0.1.dev5->streamlit) (1.0.18)\n",
            "Requirement already satisfied: pexpect; sys_platform != \"win32\" in /usr/local/lib/python3.6/dist-packages (from ipython>=4.0.0; python_version >= \"3.3\"->ipywidgets>=7.0.0->pydeck>=0.1.dev5->streamlit) (4.8.0)\n",
            "Requirement already satisfied: simplegeneric>0.8 in /usr/local/lib/python3.6/dist-packages (from ipython>=4.0.0; python_version >= \"3.3\"->ipywidgets>=7.0.0->pydeck>=0.1.dev5->streamlit) (0.8.1)\n",
            "Requirement already satisfied: pygments in /usr/local/lib/python3.6/dist-packages (from ipython>=4.0.0; python_version >= \"3.3\"->ipywidgets>=7.0.0->pydeck>=0.1.dev5->streamlit) (2.1.3)\n",
            "Requirement already satisfied: pickleshare in /usr/local/lib/python3.6/dist-packages (from ipython>=4.0.0; python_version >= \"3.3\"->ipywidgets>=7.0.0->pydeck>=0.1.dev5->streamlit) (0.7.5)\n",
            "Requirement already satisfied: pyzmq>=13 in /usr/local/lib/python3.6/dist-packages (from jupyter-client->ipykernel>=5.1.2; python_version >= \"3.4\"->pydeck>=0.1.dev5->streamlit) (19.0.2)\n",
            "Requirement already satisfied: terminado>=0.8.1 in /usr/local/lib/python3.6/dist-packages (from notebook>=4.4.1->widgetsnbextension~=3.5.0->ipywidgets>=7.0.0->pydeck>=0.1.dev5->streamlit) (0.8.3)\n",
            "Requirement already satisfied: nbconvert in /usr/local/lib/python3.6/dist-packages (from notebook>=4.4.1->widgetsnbextension~=3.5.0->ipywidgets>=7.0.0->pydeck>=0.1.dev5->streamlit) (5.6.1)\n",
            "Requirement already satisfied: Send2Trash in /usr/local/lib/python3.6/dist-packages (from notebook>=4.4.1->widgetsnbextension~=3.5.0->ipywidgets>=7.0.0->pydeck>=0.1.dev5->streamlit) (1.5.0)\n",
            "Requirement already satisfied: wcwidth in /usr/local/lib/python3.6/dist-packages (from prompt-toolkit<2.0.0,>=1.0.4->ipython>=4.0.0; python_version >= \"3.3\"->ipywidgets>=7.0.0->pydeck>=0.1.dev5->streamlit) (0.2.5)\n",
            "Requirement already satisfied: ptyprocess>=0.5 in /usr/local/lib/python3.6/dist-packages (from pexpect; sys_platform != \"win32\"->ipython>=4.0.0; python_version >= \"3.3\"->ipywidgets>=7.0.0->pydeck>=0.1.dev5->streamlit) (0.6.0)\n",
            "Requirement already satisfied: mistune<2,>=0.8.1 in /usr/local/lib/python3.6/dist-packages (from nbconvert->notebook>=4.4.1->widgetsnbextension~=3.5.0->ipywidgets>=7.0.0->pydeck>=0.1.dev5->streamlit) (0.8.4)\n",
            "Requirement already satisfied: testpath in /usr/local/lib/python3.6/dist-packages (from nbconvert->notebook>=4.4.1->widgetsnbextension~=3.5.0->ipywidgets>=7.0.0->pydeck>=0.1.dev5->streamlit) (0.4.4)\n",
            "Requirement already satisfied: defusedxml in /usr/local/lib/python3.6/dist-packages (from nbconvert->notebook>=4.4.1->widgetsnbextension~=3.5.0->ipywidgets>=7.0.0->pydeck>=0.1.dev5->streamlit) (0.6.0)\n",
            "Requirement already satisfied: pandocfilters>=1.4.1 in /usr/local/lib/python3.6/dist-packages (from nbconvert->notebook>=4.4.1->widgetsnbextension~=3.5.0->ipywidgets>=7.0.0->pydeck>=0.1.dev5->streamlit) (1.4.2)\n",
            "Requirement already satisfied: bleach in /usr/local/lib/python3.6/dist-packages (from nbconvert->notebook>=4.4.1->widgetsnbextension~=3.5.0->ipywidgets>=7.0.0->pydeck>=0.1.dev5->streamlit) (3.1.5)\n",
            "Requirement already satisfied: webencodings in /usr/local/lib/python3.6/dist-packages (from bleach->nbconvert->notebook>=4.4.1->widgetsnbextension~=3.5.0->ipywidgets>=7.0.0->pydeck>=0.1.dev5->streamlit) (0.5.1)\n",
            "Building wheels for collected packages: blinker, watchdog, pathtools\n",
            "  Building wheel for blinker (setup.py) ... \u001b[?25l\u001b[?25hdone\n",
            "  Created wheel for blinker: filename=blinker-1.4-cp36-none-any.whl size=13450 sha256=2021954166c611f09c92a0c3fd3b7ab686f9a69dec7b9112b6b304fe29a62ae9\n",
            "  Stored in directory: /root/.cache/pip/wheels/92/a0/00/8690a57883956a301d91cf4ec999cc0b258b01e3f548f86e89\n",
            "  Building wheel for watchdog (setup.py) ... \u001b[?25l\u001b[?25hdone\n",
            "  Created wheel for watchdog: filename=watchdog-0.10.3-cp36-none-any.whl size=73873 sha256=5d79ba981f67a11fc222e107c4c77c67bd687be7fd5e02d3a72190be57a217c9\n",
            "  Stored in directory: /root/.cache/pip/wheels/a8/1d/38/2c19bb311f67cc7b4d07a2ec5ea36ab1a0a0ea50db994a5bc7\n",
            "  Building wheel for pathtools (setup.py) ... \u001b[?25l\u001b[?25hdone\n",
            "  Created wheel for pathtools: filename=pathtools-0.1.2-cp36-none-any.whl size=8785 sha256=ae1c05477de9acca1e05a3a23a7f97bf57238e714f3890bcd40cef5c628ea76d\n",
            "  Stored in directory: /root/.cache/pip/wheels/0b/04/79/c3b0c3a0266a3cb4376da31e5bfe8bba0c489246968a68e843\n",
            "Successfully built blinker watchdog pathtools\n",
            "\u001b[31mERROR: google-colab 1.0.0 has requirement ipykernel~=4.10, but you'll have ipykernel 5.3.4 which is incompatible.\u001b[0m\n",
            "Installing collected packages: validators, enum-compat, ipykernel, pydeck, blinker, pathtools, watchdog, base58, streamlit\n",
            "  Found existing installation: ipykernel 4.10.1\n",
            "    Uninstalling ipykernel-4.10.1:\n",
            "      Successfully uninstalled ipykernel-4.10.1\n",
            "Successfully installed base58-2.0.1 blinker-1.4 enum-compat-0.0.3 ipykernel-5.3.4 pathtools-0.1.2 pydeck-0.5.0b1 streamlit-0.66.0 validators-0.18.1 watchdog-0.10.3\n"
          ],
          "name": "stdout"
        },
        {
          "output_type": "display_data",
          "data": {
            "application/vnd.colab-display-data+json": {
              "pip_warning": {
                "packages": [
                  "ipykernel"
                ]
              }
            }
          },
          "metadata": {
            "tags": []
          }
        }
      ]
    },
    {
      "cell_type": "code",
      "metadata": {
        "id": "Z2GjLDkijHKD",
        "colab_type": "code",
        "colab": {
          "base_uri": "https://localhost:8080/",
          "height": 870
        },
        "outputId": "64f74251-959a-492b-b7da-1992a619530f"
      },
      "source": [
        "pip install adversarial-robustness-toolbox"
      ],
      "execution_count": 17,
      "outputs": [
        {
          "output_type": "stream",
          "text": [
            "Collecting adversarial-robustness-toolbox\n",
            "\u001b[?25l  Downloading https://files.pythonhosted.org/packages/1b/32/58fe1a0a17ccbab0749ef11b704ccd0980b3521edb91f5a3b9d62abbbbd9/adversarial_robustness_toolbox-1.3.3-py3-none-any.whl (654kB)\n",
            "\r\u001b[K     |▌                               | 10kB 15.7MB/s eta 0:00:01\r\u001b[K     |█                               | 20kB 2.2MB/s eta 0:00:01\r\u001b[K     |█▌                              | 30kB 2.7MB/s eta 0:00:01\r\u001b[K     |██                              | 40kB 3.1MB/s eta 0:00:01\r\u001b[K     |██▌                             | 51kB 2.6MB/s eta 0:00:01\r\u001b[K     |███                             | 61kB 2.8MB/s eta 0:00:01\r\u001b[K     |███▌                            | 71kB 3.1MB/s eta 0:00:01\r\u001b[K     |████                            | 81kB 3.4MB/s eta 0:00:01\r\u001b[K     |████▌                           | 92kB 3.5MB/s eta 0:00:01\r\u001b[K     |█████                           | 102kB 3.4MB/s eta 0:00:01\r\u001b[K     |█████▌                          | 112kB 3.4MB/s eta 0:00:01\r\u001b[K     |██████                          | 122kB 3.4MB/s eta 0:00:01\r\u001b[K     |██████▌                         | 133kB 3.4MB/s eta 0:00:01\r\u001b[K     |███████                         | 143kB 3.4MB/s eta 0:00:01\r\u001b[K     |███████▌                        | 153kB 3.4MB/s eta 0:00:01\r\u001b[K     |████████                        | 163kB 3.4MB/s eta 0:00:01\r\u001b[K     |████████▌                       | 174kB 3.4MB/s eta 0:00:01\r\u001b[K     |█████████                       | 184kB 3.4MB/s eta 0:00:01\r\u001b[K     |█████████▌                      | 194kB 3.4MB/s eta 0:00:01\r\u001b[K     |██████████                      | 204kB 3.4MB/s eta 0:00:01\r\u001b[K     |██████████▌                     | 215kB 3.4MB/s eta 0:00:01\r\u001b[K     |███████████                     | 225kB 3.4MB/s eta 0:00:01\r\u001b[K     |███████████▌                    | 235kB 3.4MB/s eta 0:00:01\r\u001b[K     |████████████                    | 245kB 3.4MB/s eta 0:00:01\r\u001b[K     |████████████▌                   | 256kB 3.4MB/s eta 0:00:01\r\u001b[K     |█████████████                   | 266kB 3.4MB/s eta 0:00:01\r\u001b[K     |█████████████▌                  | 276kB 3.4MB/s eta 0:00:01\r\u001b[K     |██████████████                  | 286kB 3.4MB/s eta 0:00:01\r\u001b[K     |██████████████▌                 | 296kB 3.4MB/s eta 0:00:01\r\u001b[K     |███████████████                 | 307kB 3.4MB/s eta 0:00:01\r\u001b[K     |███████████████▌                | 317kB 3.4MB/s eta 0:00:01\r\u001b[K     |████████████████                | 327kB 3.4MB/s eta 0:00:01\r\u001b[K     |████████████████▌               | 337kB 3.4MB/s eta 0:00:01\r\u001b[K     |█████████████████               | 348kB 3.4MB/s eta 0:00:01\r\u001b[K     |█████████████████▌              | 358kB 3.4MB/s eta 0:00:01\r\u001b[K     |██████████████████              | 368kB 3.4MB/s eta 0:00:01\r\u001b[K     |██████████████████▌             | 378kB 3.4MB/s eta 0:00:01\r\u001b[K     |███████████████████             | 389kB 3.4MB/s eta 0:00:01\r\u001b[K     |███████████████████▌            | 399kB 3.4MB/s eta 0:00:01\r\u001b[K     |████████████████████            | 409kB 3.4MB/s eta 0:00:01\r\u001b[K     |████████████████████▌           | 419kB 3.4MB/s eta 0:00:01\r\u001b[K     |█████████████████████           | 430kB 3.4MB/s eta 0:00:01\r\u001b[K     |█████████████████████▌          | 440kB 3.4MB/s eta 0:00:01\r\u001b[K     |██████████████████████          | 450kB 3.4MB/s eta 0:00:01\r\u001b[K     |██████████████████████▌         | 460kB 3.4MB/s eta 0:00:01\r\u001b[K     |███████████████████████         | 471kB 3.4MB/s eta 0:00:01\r\u001b[K     |███████████████████████▌        | 481kB 3.4MB/s eta 0:00:01\r\u001b[K     |████████████████████████        | 491kB 3.4MB/s eta 0:00:01\r\u001b[K     |████████████████████████▌       | 501kB 3.4MB/s eta 0:00:01\r\u001b[K     |█████████████████████████       | 512kB 3.4MB/s eta 0:00:01\r\u001b[K     |█████████████████████████▌      | 522kB 3.4MB/s eta 0:00:01\r\u001b[K     |██████████████████████████      | 532kB 3.4MB/s eta 0:00:01\r\u001b[K     |██████████████████████████▌     | 542kB 3.4MB/s eta 0:00:01\r\u001b[K     |███████████████████████████     | 552kB 3.4MB/s eta 0:00:01\r\u001b[K     |███████████████████████████▌    | 563kB 3.4MB/s eta 0:00:01\r\u001b[K     |████████████████████████████    | 573kB 3.4MB/s eta 0:00:01\r\u001b[K     |████████████████████████████▌   | 583kB 3.4MB/s eta 0:00:01\r\u001b[K     |█████████████████████████████   | 593kB 3.4MB/s eta 0:00:01\r\u001b[K     |█████████████████████████████▌  | 604kB 3.4MB/s eta 0:00:01\r\u001b[K     |██████████████████████████████  | 614kB 3.4MB/s eta 0:00:01\r\u001b[K     |██████████████████████████████▌ | 624kB 3.4MB/s eta 0:00:01\r\u001b[K     |███████████████████████████████ | 634kB 3.4MB/s eta 0:00:01\r\u001b[K     |███████████████████████████████▌| 645kB 3.4MB/s eta 0:00:01\r\u001b[K     |████████████████████████████████| 655kB 3.4MB/s \n",
            "\u001b[?25hRequirement already satisfied: six in /usr/local/lib/python3.6/dist-packages (from adversarial-robustness-toolbox) (1.15.0)\n",
            "Requirement already satisfied: setuptools in /usr/local/lib/python3.6/dist-packages (from adversarial-robustness-toolbox) (49.6.0)\n",
            "Requirement already satisfied: resampy in /usr/local/lib/python3.6/dist-packages (from adversarial-robustness-toolbox) (0.2.2)\n",
            "Collecting scikit-learn==0.23.2\n",
            "\u001b[?25l  Downloading https://files.pythonhosted.org/packages/5c/a1/273def87037a7fb010512bbc5901c31cfddfca8080bc63b42b26e3cc55b3/scikit_learn-0.23.2-cp36-cp36m-manylinux1_x86_64.whl (6.8MB)\n",
            "\u001b[K     |████████████████████████████████| 6.8MB 17.3MB/s \n",
            "\u001b[?25hRequirement already satisfied: matplotlib in /usr/local/lib/python3.6/dist-packages (from adversarial-robustness-toolbox) (3.2.2)\n",
            "Requirement already satisfied: tqdm in /usr/local/lib/python3.6/dist-packages (from adversarial-robustness-toolbox) (4.41.1)\n",
            "Requirement already satisfied: numpy in /usr/local/lib/python3.6/dist-packages (from adversarial-robustness-toolbox) (1.18.5)\n",
            "Collecting pydub\n",
            "  Downloading https://files.pythonhosted.org/packages/7b/d1/fbfa79371a8cd9bb15c2e3c480d7e6e340ed5cc55005174e16f48418333a/pydub-0.24.1-py2.py3-none-any.whl\n",
            "Collecting cma\n",
            "\u001b[?25l  Downloading https://files.pythonhosted.org/packages/36/c0/0a1c41f7cad0a51e07991cf86423d0e6651d035f1fe7dcff48e8858848f2/cma-3.0.3-py2.py3-none-any.whl (230kB)\n",
            "\u001b[K     |████████████████████████████████| 235kB 42.3MB/s \n",
            "\u001b[?25hRequirement already satisfied: statsmodels in /usr/local/lib/python3.6/dist-packages (from adversarial-robustness-toolbox) (0.10.2)\n",
            "Requirement already satisfied: Pillow in /usr/local/lib/python3.6/dist-packages (from adversarial-robustness-toolbox) (7.0.0)\n",
            "Collecting ffmpeg-python\n",
            "  Downloading https://files.pythonhosted.org/packages/d7/0c/56be52741f75bad4dc6555991fabd2e07b432d333da82c11ad701123888a/ffmpeg_python-0.2.0-py3-none-any.whl\n",
            "Collecting mypy\n",
            "\u001b[?25l  Downloading https://files.pythonhosted.org/packages/14/9d/914bb0c71292ffd7e1c9728b9366f9ea34c874f5ca12ac6005a400e4d130/mypy-0.782-cp36-cp36m-manylinux1_x86_64.whl (20.8MB)\n",
            "\u001b[K     |████████████████████████████████| 20.8MB 60.4MB/s \n",
            "\u001b[?25hRequirement already satisfied: scipy==1.4.1 in /usr/local/lib/python3.6/dist-packages (from adversarial-robustness-toolbox) (1.4.1)\n",
            "Requirement already satisfied: numba>=0.32 in /usr/local/lib/python3.6/dist-packages (from resampy->adversarial-robustness-toolbox) (0.48.0)\n",
            "Collecting threadpoolctl>=2.0.0\n",
            "  Downloading https://files.pythonhosted.org/packages/f7/12/ec3f2e203afa394a149911729357aa48affc59c20e2c1c8297a60f33f133/threadpoolctl-2.1.0-py3-none-any.whl\n",
            "Requirement already satisfied: joblib>=0.11 in /usr/local/lib/python3.6/dist-packages (from scikit-learn==0.23.2->adversarial-robustness-toolbox) (0.16.0)\n",
            "Requirement already satisfied: cycler>=0.10 in /usr/local/lib/python3.6/dist-packages (from matplotlib->adversarial-robustness-toolbox) (0.10.0)\n",
            "Requirement already satisfied: pyparsing!=2.0.4,!=2.1.2,!=2.1.6,>=2.0.1 in /usr/local/lib/python3.6/dist-packages (from matplotlib->adversarial-robustness-toolbox) (2.4.7)\n",
            "Requirement already satisfied: kiwisolver>=1.0.1 in /usr/local/lib/python3.6/dist-packages (from matplotlib->adversarial-robustness-toolbox) (1.2.0)\n",
            "Requirement already satisfied: python-dateutil>=2.1 in /usr/local/lib/python3.6/dist-packages (from matplotlib->adversarial-robustness-toolbox) (2.8.1)\n",
            "Requirement already satisfied: patsy>=0.4.0 in /usr/local/lib/python3.6/dist-packages (from statsmodels->adversarial-robustness-toolbox) (0.5.1)\n",
            "Requirement already satisfied: pandas>=0.19 in /usr/local/lib/python3.6/dist-packages (from statsmodels->adversarial-robustness-toolbox) (1.0.5)\n",
            "Requirement already satisfied: future in /usr/local/lib/python3.6/dist-packages (from ffmpeg-python->adversarial-robustness-toolbox) (0.16.0)\n",
            "Collecting mypy-extensions<0.5.0,>=0.4.3\n",
            "  Downloading https://files.pythonhosted.org/packages/5c/eb/975c7c080f3223a5cdaff09612f3a5221e4ba534f7039db34c35d95fa6a5/mypy_extensions-0.4.3-py2.py3-none-any.whl\n",
            "Requirement already satisfied: typing-extensions>=3.7.4 in /usr/local/lib/python3.6/dist-packages (from mypy->adversarial-robustness-toolbox) (3.7.4.3)\n",
            "Collecting typed-ast<1.5.0,>=1.4.0\n",
            "\u001b[?25l  Downloading https://files.pythonhosted.org/packages/90/ed/5459080d95eb87a02fe860d447197be63b6e2b5e9ff73c2b0a85622994f4/typed_ast-1.4.1-cp36-cp36m-manylinux1_x86_64.whl (737kB)\n",
            "\u001b[K     |████████████████████████████████| 747kB 42.2MB/s \n",
            "\u001b[?25hRequirement already satisfied: llvmlite<0.32.0,>=0.31.0dev0 in /usr/local/lib/python3.6/dist-packages (from numba>=0.32->resampy->adversarial-robustness-toolbox) (0.31.0)\n",
            "Requirement already satisfied: pytz>=2017.2 in /usr/local/lib/python3.6/dist-packages (from pandas>=0.19->statsmodels->adversarial-robustness-toolbox) (2018.9)\n",
            "Installing collected packages: threadpoolctl, scikit-learn, pydub, cma, ffmpeg-python, mypy-extensions, typed-ast, mypy, adversarial-robustness-toolbox\n",
            "  Found existing installation: scikit-learn 0.22.2.post1\n",
            "    Uninstalling scikit-learn-0.22.2.post1:\n",
            "      Successfully uninstalled scikit-learn-0.22.2.post1\n",
            "Successfully installed adversarial-robustness-toolbox-1.3.3 cma-3.0.3 ffmpeg-python-0.2.0 mypy-0.782 mypy-extensions-0.4.3 pydub-0.24.1 scikit-learn-0.23.2 threadpoolctl-2.1.0 typed-ast-1.4.1\n"
          ],
          "name": "stdout"
        }
      ]
    },
    {
      "cell_type": "code",
      "metadata": {
        "id": "rO46UqGZc5QX",
        "colab_type": "code",
        "colab": {
          "base_uri": "https://localhost:8080/",
          "height": 68
        },
        "outputId": "9e863af5-60d3-4fd2-f8cb-a81c9dc2a079"
      },
      "source": [
        "!pip install pyngrok"
      ],
      "execution_count": 1,
      "outputs": [
        {
          "output_type": "stream",
          "text": [
            "Requirement already satisfied: pyngrok in /usr/local/lib/python3.6/dist-packages (4.1.12)\n",
            "Requirement already satisfied: future in /usr/local/lib/python3.6/dist-packages (from pyngrok) (0.16.0)\n",
            "Requirement already satisfied: PyYAML in /usr/local/lib/python3.6/dist-packages (from pyngrok) (3.13)\n"
          ],
          "name": "stdout"
        }
      ]
    },
    {
      "cell_type": "code",
      "metadata": {
        "id": "A0HxCKxIc95L",
        "colab_type": "code",
        "colab": {
          "base_uri": "https://localhost:8080/",
          "height": 204
        },
        "outputId": "49f4c931-f31b-4461-8b0d-39c38699df14"
      },
      "source": [
        "!wget https://raw.githubusercontent.com/TanmayKhot/Fluorine/master/imagenet_classes.txt"
      ],
      "execution_count": 2,
      "outputs": [
        {
          "output_type": "stream",
          "text": [
            "--2020-09-14 09:36:13--  https://raw.githubusercontent.com/TanmayKhot/Fluorine/master/imagenet_classes.txt\n",
            "Resolving raw.githubusercontent.com (raw.githubusercontent.com)... 151.101.0.133, 151.101.64.133, 151.101.128.133, ...\n",
            "Connecting to raw.githubusercontent.com (raw.githubusercontent.com)|151.101.0.133|:443... connected.\n",
            "HTTP request sent, awaiting response... 200 OK\n",
            "Length: 21675 (21K) [text/plain]\n",
            "Saving to: ‘imagenet_classes.txt.1’\n",
            "\n",
            "\rimagenet_classes.tx   0%[                    ]       0  --.-KB/s               \rimagenet_classes.tx 100%[===================>]  21.17K  --.-KB/s    in 0.01s   \n",
            "\n",
            "2020-09-14 09:36:13 (2.01 MB/s) - ‘imagenet_classes.txt.1’ saved [21675/21675]\n",
            "\n"
          ],
          "name": "stdout"
        }
      ]
    },
    {
      "cell_type": "code",
      "metadata": {
        "id": "XVBS--rtc_7t",
        "colab_type": "code",
        "colab": {
          "base_uri": "https://localhost:8080/",
          "height": 34
        },
        "outputId": "0d21642c-8dbf-47fb-e4da-8124d8d89ef3"
      },
      "source": [
        "%%writefile main.py\n",
        "import streamlit as st\n",
        "PAGE_CONFIG = {\"page_title\":\"Image Classifier Visualizer with Adv Attacks.io\", \"page_icon\":\":smiley:\", \"layout\":\"centered\"}\n",
        "st.beta_set_page_config(**PAGE_CONFIG)\n",
        "import numpy as np\n",
        "import time\n",
        "import torch\n",
        "import torchvision.models as models\n",
        "from torchvision import transforms as T\n",
        "import torch.nn as nn\n",
        "import torch.nn.functional as F\n",
        "import torch.optim as optim\n",
        "from PIL import Image\n",
        "import urllib.request\n",
        "from art.attacks.evasion import *\n",
        "from art.estimators.classification import PyTorchClassifier\n",
        " \n",
        "with open('imagenet_classes.txt') as f:\n",
        "  classes = [line.strip() for line in f.readlines()]\n",
        "st.set_option('deprecation.showfileUploaderEncoding', False)\n",
        "html_temp = '''\n",
        "    <div>\n",
        "    <center><h1>Image Classifier</h1></center>\n",
        "    <center><h2>with</h2></center>\n",
        "    <center><h1>Adversarial Attack Visualizer</h1></center>\n",
        "    <h1></h1>\n",
        "    </div>\n",
        "    '''\n",
        "st.markdown(html_temp, unsafe_allow_html=True)\n",
        "import base64\n",
        " \n",
        "def get_base64_of_bin_file(bin_file):\n",
        "    with open(bin_file, 'rb') as f:\n",
        "        data = f.read()\n",
        "    return base64.b64encode(data).decode()\n",
        " \n",
        "def set_png_as_page_bg(jpg_file):\n",
        "    bin_str = get_base64_of_bin_file(jpg_file)\n",
        "    page_bg_img = '''\n",
        "    <style>\n",
        "    body {\n",
        "    background-image: url(\"data:image/jpg;base64,%s\");\n",
        "    background-size: cover;\n",
        "    }\n",
        "    </style>\n",
        "    ''' % bin_str\n",
        "    st.markdown(page_bg_img, unsafe_allow_html=True)\n",
        "    return\n",
        " \n",
        "set_png_as_page_bg('nbgr.jpg')\n",
        " \n",
        "def classify(model, image, classes, model_select, choice):\n",
        "  model.eval()\n",
        "  from torchvision import transforms\n",
        "  \n",
        "  preprocess = transforms.Compose([\n",
        "    transforms.Resize(256),\n",
        "    transforms.CenterCrop(224),\n",
        "    transforms.ToTensor(),\n",
        "    transforms.Normalize(mean=[0.485, 0.456, 0.406], std=[0.229, 0.224, 0.225]),\n",
        "  ])\n",
        "  input_tensor = preprocess(image)\n",
        "  input_batch = input_tensor.unsqueeze(0) # create a mini-batch as expected by the model\n",
        " \n",
        "  # move the input and model to GPU for speed if available\n",
        "  if torch.cuda.is_available():\n",
        "    input_batch = input_batch.to('cuda')\n",
        "    model.to('cuda')\n",
        "  with torch.no_grad():\n",
        "    output = model(input_batch)\n",
        "  _, index = torch.max(output, 1)\n",
        "  percentage = torch.nn.functional.softmax(output, dim=1)[0] * 100\n",
        "  \n",
        "  \n",
        "  if choice == 1:\n",
        "    progress_bar = st.sidebar.progress(0)\n",
        "    status_text = st.sidebar.empty()\n",
        "    for i in range(1,101):\n",
        "      status_text.text(\"Classifying\")\n",
        "      if i >= 30:\n",
        "        status_text.text(\"Classifying.\")\n",
        "      if i >= 60:\n",
        "        status_text.text(\"Classifying..\")\n",
        "      if i >= 90:\n",
        "        status_text.text(\"Classifying...\")\n",
        "      progress_bar.progress(i)\n",
        "      time.sleep(0.02)\n",
        "    progress_bar.empty()\n",
        "    time.sleep(1.5)\n",
        "    status_text.empty()\n",
        "  \n",
        "  st.success('Hey! {} classified your image as a {} with confidence {}'.format(model_select, classes[index[0]], percentage[index[0]].item()))\n",
        "\n",
        "#end of def classify \n",
        "\n",
        "def paginator(label, items, items_per_page=2, on_sidebar=True):\n",
        "    max_index =  items_per_page\n",
        "    import itertools\n",
        "    return itertools.islice(enumerate(items), max_index)\n",
        "\n",
        "#end of paginator\n",
        "\n",
        "def adversarial(image, model, attack, attack_select, epsilon):\n",
        "  width, height = image.size\n",
        "  transform = T.Compose([            \n",
        "    T.Resize(256),                    \n",
        "    T.CenterCrop(224),                \n",
        "    T.ToTensor(),                     \n",
        "    T.Normalize(mean=[0.485, 0.456, 0.406],\n",
        "                std=[0.229, 0.224, 0.225])\n",
        "  ])\n",
        "  \n",
        "  transformed_img = transform(image)\n",
        "  input_img = transformed_img.unsqueeze(0)\n",
        "  advx = attack.generate(x=input_img)\n",
        "  rescaled = (advx - advx.min()) / (advx.max() - advx.min())\n",
        "  rescaled = (255*np.transpose(np.squeeze(rescaled))).astype(np.uint8)\n",
        "  rescaled = np.moveaxis(rescaled ,0, 1)\n",
        "  img = Image.fromarray(rescaled)\n",
        "  f_trans = T.Compose([\n",
        "                       T.Resize(256),\n",
        "                       T.CenterCrop(224)])\n",
        "  img_f = f_trans(image)\n",
        "  images=[img_f, img]\n",
        "  captions=['Uploaded Image', 'Image after Adversarial Attack']\n",
        "  image_iter = paginator(\"\",images)\n",
        "  index, fimg = map(list, zip(*image_iter))\n",
        "  st.image(fimg, width = 328, caption = captions)\n",
        "  transformed_img = transform(img)\n",
        "  final_img = transformed_img.unsqueeze(0)\n",
        "  output = model(final_img)\n",
        "  _, index = torch.max(output, 1)\n",
        "  percentage = torch.nn.functional.softmax(output, dim=1)[0] * 100\n",
        "  st.warning('Hey! {} classified your image as a {} with confidence {} after implementing {}'.format(model_select, classes[index[0]], percentage[index[0]].item(), attack_select))\n",
        "\n",
        "\n",
        "select =  st.sidebar.selectbox('',('Home','Image Classifier','Image Classifier with Adversarial Attack Visualizer'))\n",
        "\n",
        "if select == 'Image Classifier':\n",
        "    model_select = st.sidebar.selectbox('Please select a Classification Model from the list',('','AlexNet', 'DenseNet', 'ResNet','VGG'))\n",
        "    html_temp = '''\n",
        "    <div>\n",
        "    <center><h3>Please enter Image for Classification</h3></center>\n",
        "    </div>\n",
        "    '''\n",
        "    st.markdown(html_temp, unsafe_allow_html=True)\n",
        "    opt = st.selectbox(\"How do you want to upload the image for classification?\\n\", ('Please Select', 'Upload image via link', 'Upload image from device'))\n",
        " \n",
        "    if opt == 'Upload image from device':\n",
        "      file = st.file_uploader('Select', type = ['jpg', 'png', 'jpeg'])\n",
        "      st.set_option('deprecation.showfileUploaderEncoding', False)\n",
        "      if file is not None:\n",
        "            image = Image.open(file)\n",
        "\n",
        "    elif opt == 'Upload image via link':\n",
        "        img = st.text_input('Enter the Image Address')\n",
        "        if st.button('Submit'):\n",
        "            image = Image.open(urllib.request.urlopen(img))\n",
        "\n",
        "    try:\n",
        "      if model_select == 'VGG':\n",
        "        model = models.vgg16(pretrained=True)\n",
        "        st.image(image, width = 300, caption = 'Uploaded Image')\n",
        "        classify(model, image, classes, model_select, 1)\n",
        "      elif model_select == 'AlexNet':\n",
        "        model = models.alexnet(pretrained=True)\n",
        "        st.image(image, width = 300, caption = 'Uploaded Image')\n",
        "        classify(model, image, classes, model_select, 1)\n",
        "      elif model_select == 'DenseNet':\n",
        "        model = models.densenet121(pretrained=True)\n",
        "        st.image(image, width = 300, caption = 'Uploaded Image')\n",
        "        classify(model, image, classes, model_select, 1)\n",
        "      elif model_select == 'ResNet':\n",
        "        model = models.resnet101(pretrained=True)\n",
        "        st.image(image, width = 300, caption = 'Uploaded Image')\n",
        "        classify(model, image, classes, model_select, 1)\n",
        "    except:\n",
        "      pass      \n",
        " \n",
        "    if opt == \"Please Select\":\n",
        "        pass\n",
        " \n",
        "if select == 'Image Classifier with Adversarial Attack Visualizer':    \n",
        "    model_select = st.sidebar.selectbox('Please select a Classification Model from the list:',('','AlexNet', 'DenseNet', 'ResNet','VGG'))\n",
        "    attack_select = st.sidebar.selectbox('Please select an Adversarial Attack from the list:',('','DeepFool','FGSM','AutoAttack','BasicIterativeMethod')) \n",
        "    epsilon = st.sidebar.number_input('Enter Epsilon value(e>0):')\n",
        "    if epsilon < 0:\n",
        "      warn = st.sidebar.error(\"Epsilon value should be a positive number. Please Re-enter...\")\n",
        "      time.sleep(3)\n",
        "      warn.empty()\n",
        "    html_temp = '''\n",
        "    <div>\n",
        "    <center><h3>Please enter Image for Classification</h3></center>\n",
        "    </div>\n",
        "    '''\n",
        "    st.markdown(html_temp, unsafe_allow_html=True)\n",
        "    opt = st.selectbox(\"How do you want to upload the image for classification?\\n\", ('Please Select', 'Upload image via link', 'Upload image from device'))\n",
        " \n",
        "    if opt == 'Upload image from device':\n",
        "      file = st.file_uploader('Select', type = ['jpg', 'png', 'jpeg'])\n",
        "      st.set_option('deprecation.showfileUploaderEncoding', False)\n",
        "      if file is not None:\n",
        "            image = Image.open(file)\n",
        "\n",
        "    elif opt == 'Upload image via link':\n",
        "        img = st.text_input('Enter the Image Address')\n",
        "        if st.button('Submit'):\n",
        "            image = Image.open(urllib.request.urlopen(img))\n",
        "\n",
        "    if model_select == 'VGG':\n",
        "       model = models.vgg16(pretrained=True)\n",
        "       \n",
        "    elif model_select == 'AlexNet':\n",
        "        model = models.alexnet(pretrained=True)\n",
        "        \n",
        "    elif model_select == 'DenseNet':\n",
        "        model = models.densenet121(pretrained=True)\n",
        "        \n",
        "    elif model_select == 'ResNet':\n",
        "        model = models.resnet101(pretrained=True)\n",
        "\n",
        "    if model_select != '':\n",
        "      criterion = nn.CrossEntropyLoss()\n",
        "      optimizer = optim.Adam(model.parameters(), lr=0.01)\n",
        "      classifier = PyTorchClassifier(\n",
        "        model=model,\n",
        "        clip_values=(0, 1),\n",
        "        loss=criterion,\n",
        "        optimizer=optimizer,\n",
        "        input_shape=(3, 224, 224),\n",
        "        nb_classes=1000,\n",
        "      )\n",
        "    try:\n",
        "      if attack_select == 'DeepFool':\n",
        "        attack = DeepFool(classifier, epsilon=epsilon)\n",
        "        adversarial(image, model, attack,  attack_select, epsilon)\n",
        "      elif attack_select == 'FGSM':\n",
        "        attack = FastGradientMethod(estimator = classifier, eps = epsilon) \n",
        "        adversarial(image, model, attack,  attack_select, epsilon)\n",
        "      elif attack_select == 'AutoAttack':\n",
        "        attack = AutoAttack(estimator = classifier, eps = epsilon)\n",
        "        adversarial(image, model, attack,  attack_select, epsilon)\n",
        "      elif attack_select == 'BasicIterativeMethod':\n",
        "        attack = BasicIterativeMethod(classifier, epsilon)\n",
        "        adversarial(image, model, attack,  attack_select, epsilon)\n",
        "    except:\n",
        "      pass\n",
        "\n",
        "    if opt == \"Please Select\":\n",
        "        pass\n",
        " \n",
        "if select == 'Home':\n",
        "    \n",
        "    html_temp = '''\n",
        "    <div style = \"background-color: rgba(25,25,112,0.20); padding: 20px; padding-bottom: 30px; padding-left: 20px; padding-right: 20px\">\n",
        "    <center><h2>Hey there!!! Welcome! &#x1F609;</h2></center>\n",
        "    <h1></h1>\n",
        "    <center><h3>Enter any image of your choice and our models will classify it for you.</h3></center>\n",
        "    <center><h4>Wait.. There's more to it</h4></center>\n",
        "    <center><h3>Select an Adversarial Attack of your choice to get wierdly exciting results!!!</h3></center>\n",
        "    <h3></h3>\n",
        "    <center><h4>To know more about Image Classifier with PyTorch click <a href = \"https://towardsdatascience.com/how-to-train-an-image-classifier-in-pytorch-and-use-it-to-perform-basic-inference-on-single-images-99465a1e9bf5\"  target=\"_blank\">here</a>.</h4></center> \n",
        "    <center><h4>To know more about Adversarial Attacks click <a href = \"https://towardsdatascience.com/breaking-neural-networks-with-adversarial-attacks-f4290a9a45aa\"  target=\"_blank\">here</a>.</h4></center>\n",
        "     \n",
        "    </div>\n",
        "    '''\n",
        "    st.markdown(html_temp, unsafe_allow_html=True)    "
      ],
      "execution_count": 46,
      "outputs": [
        {
          "output_type": "stream",
          "text": [
            "Overwriting main.py\n"
          ],
          "name": "stdout"
        }
      ]
    },
    {
      "cell_type": "code",
      "metadata": {
        "id": "Nqw5dWvbdJz-",
        "colab_type": "code",
        "colab": {
          "base_uri": "https://localhost:8080/",
          "height": 34
        },
        "outputId": "3f78fdcb-6f1d-41e7-eb0a-3f9ed822fb71"
      },
      "source": [
        "!ngrok authtoken 1hQAE2uizes35CU6alr9SoHkWrn_5hci3LaKPin2vFJcvLhks"
      ],
      "execution_count": 4,
      "outputs": [
        {
          "output_type": "stream",
          "text": [
            "Authtoken saved to configuration file: /root/.ngrok2/ngrok.yml\n"
          ],
          "name": "stdout"
        }
      ]
    },
    {
      "cell_type": "code",
      "metadata": {
        "id": "IxlzteRadNhv",
        "colab_type": "code",
        "colab": {
          "base_uri": "https://localhost:8080/",
          "height": 34
        },
        "outputId": "11d21451-744f-4048-b357-aa094f4360ca"
      },
      "source": [
        "!streamlit run main.py&>/dev/null&\n",
        "!pgrep streamlit"
      ],
      "execution_count": 5,
      "outputs": [
        {
          "output_type": "stream",
          "text": [
            "2069\n"
          ],
          "name": "stdout"
        }
      ]
    },
    {
      "cell_type": "code",
      "metadata": {
        "id": "I8AnHEX3dRIo",
        "colab_type": "code",
        "colab": {}
      },
      "source": [
        "from pyngrok import ngrok"
      ],
      "execution_count": 7,
      "outputs": []
    },
    {
      "cell_type": "code",
      "metadata": {
        "id": "fJt_D-C8dROl",
        "colab_type": "code",
        "colab": {
          "base_uri": "https://localhost:8080/",
          "height": 35
        },
        "outputId": "1ee48bb9-a578-4494-b89f-fedc9daae818"
      },
      "source": [
        "public_url = ngrok.connect(port='8501')\n",
        "public_url"
      ],
      "execution_count": 8,
      "outputs": [
        {
          "output_type": "execute_result",
          "data": {
            "application/vnd.google.colaboratory.intrinsic+json": {
              "type": "string"
            },
            "text/plain": [
              "'http://20afa8158f14.ngrok.io'"
            ]
          },
          "metadata": {
            "tags": []
          },
          "execution_count": 8
        }
      ]
    },
    {
      "cell_type": "code",
      "metadata": {
        "id": "SM06bmZNzNwZ",
        "colab_type": "code",
        "colab": {
          "base_uri": "https://localhost:8080/",
          "height": 34
        },
        "outputId": "b65de0a6-a279-4cbc-ebbf-5082f8e10c27"
      },
      "source": [
        "!streamlit config show"
      ],
      "execution_count": 48,
      "outputs": [
        {
          "output_type": "stream",
          "text": [
            "/bin/bash: streamlit: command not found\n"
          ],
          "name": "stdout"
        }
      ]
    },
    {
      "cell_type": "code",
      "metadata": {
        "id": "ngKRuazM46yg",
        "colab_type": "code",
        "colab": {}
      },
      "source": [
        "ngrok.kill()"
      ],
      "execution_count": 55,
      "outputs": []
    }
  ]
}