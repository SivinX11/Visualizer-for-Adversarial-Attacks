{
  "nbformat": 4,
  "nbformat_minor": 0,
  "metadata": {
    "colab": {
      "name": "AdvGenerator.ipynb",
      "provenance": []
    },
    "kernelspec": {
      "name": "python3",
      "display_name": "Python 3"
    }
  },
  "cells": [
    {
      "cell_type": "markdown",
      "metadata": {
        "id": "nrMLs4WsJHwJ",
        "colab_type": "text"
      },
      "source": [
        "# Install Adversarial robustness toolbox"
      ]
    },
    {
      "cell_type": "code",
      "metadata": {
        "id": "jLOBIMM326k_",
        "colab_type": "code",
        "colab": {
          "base_uri": "https://localhost:8080/",
          "height": 527
        },
        "outputId": "b6d886dc-7994-4e5a-d3bf-e4104b439bea"
      },
      "source": [
        "pip install adversarial-robustness-toolbox\n"
      ],
      "execution_count": 67,
      "outputs": [
        {
          "output_type": "stream",
          "text": [
            "Requirement already satisfied: adversarial-robustness-toolbox in /usr/local/lib/python3.6/dist-packages (1.3.3)\n",
            "Requirement already satisfied: numpy in /usr/local/lib/python3.6/dist-packages (from adversarial-robustness-toolbox) (1.18.5)\n",
            "Requirement already satisfied: tqdm in /usr/local/lib/python3.6/dist-packages (from adversarial-robustness-toolbox) (4.41.1)\n",
            "Requirement already satisfied: six in /usr/local/lib/python3.6/dist-packages (from adversarial-robustness-toolbox) (1.15.0)\n",
            "Requirement already satisfied: matplotlib in /usr/local/lib/python3.6/dist-packages (from adversarial-robustness-toolbox) (3.2.2)\n",
            "Requirement already satisfied: setuptools in /usr/local/lib/python3.6/dist-packages (from adversarial-robustness-toolbox) (49.6.0)\n",
            "Requirement already satisfied: statsmodels in /usr/local/lib/python3.6/dist-packages (from adversarial-robustness-toolbox) (0.10.2)\n",
            "Requirement already satisfied: resampy in /usr/local/lib/python3.6/dist-packages (from adversarial-robustness-toolbox) (0.2.2)\n",
            "Requirement already satisfied: cma in /usr/local/lib/python3.6/dist-packages (from adversarial-robustness-toolbox) (3.0.3)\n",
            "Requirement already satisfied: mypy in /usr/local/lib/python3.6/dist-packages (from adversarial-robustness-toolbox) (0.782)\n",
            "Requirement already satisfied: scikit-learn==0.23.2 in /usr/local/lib/python3.6/dist-packages (from adversarial-robustness-toolbox) (0.23.2)\n",
            "Requirement already satisfied: Pillow in /usr/local/lib/python3.6/dist-packages (from adversarial-robustness-toolbox) (7.0.0)\n",
            "Requirement already satisfied: pydub in /usr/local/lib/python3.6/dist-packages (from adversarial-robustness-toolbox) (0.24.1)\n",
            "Requirement already satisfied: ffmpeg-python in /usr/local/lib/python3.6/dist-packages (from adversarial-robustness-toolbox) (0.2.0)\n",
            "Requirement already satisfied: scipy==1.4.1 in /usr/local/lib/python3.6/dist-packages (from adversarial-robustness-toolbox) (1.4.1)\n",
            "Requirement already satisfied: cycler>=0.10 in /usr/local/lib/python3.6/dist-packages (from matplotlib->adversarial-robustness-toolbox) (0.10.0)\n",
            "Requirement already satisfied: kiwisolver>=1.0.1 in /usr/local/lib/python3.6/dist-packages (from matplotlib->adversarial-robustness-toolbox) (1.2.0)\n",
            "Requirement already satisfied: python-dateutil>=2.1 in /usr/local/lib/python3.6/dist-packages (from matplotlib->adversarial-robustness-toolbox) (2.8.1)\n",
            "Requirement already satisfied: pyparsing!=2.0.4,!=2.1.2,!=2.1.6,>=2.0.1 in /usr/local/lib/python3.6/dist-packages (from matplotlib->adversarial-robustness-toolbox) (2.4.7)\n",
            "Requirement already satisfied: pandas>=0.19 in /usr/local/lib/python3.6/dist-packages (from statsmodels->adversarial-robustness-toolbox) (1.0.5)\n",
            "Requirement already satisfied: patsy>=0.4.0 in /usr/local/lib/python3.6/dist-packages (from statsmodels->adversarial-robustness-toolbox) (0.5.1)\n",
            "Requirement already satisfied: numba>=0.32 in /usr/local/lib/python3.6/dist-packages (from resampy->adversarial-robustness-toolbox) (0.48.0)\n",
            "Requirement already satisfied: typing-extensions>=3.7.4 in /usr/local/lib/python3.6/dist-packages (from mypy->adversarial-robustness-toolbox) (3.7.4.3)\n",
            "Requirement already satisfied: typed-ast<1.5.0,>=1.4.0 in /usr/local/lib/python3.6/dist-packages (from mypy->adversarial-robustness-toolbox) (1.4.1)\n",
            "Requirement already satisfied: mypy-extensions<0.5.0,>=0.4.3 in /usr/local/lib/python3.6/dist-packages (from mypy->adversarial-robustness-toolbox) (0.4.3)\n",
            "Requirement already satisfied: threadpoolctl>=2.0.0 in /usr/local/lib/python3.6/dist-packages (from scikit-learn==0.23.2->adversarial-robustness-toolbox) (2.1.0)\n",
            "Requirement already satisfied: joblib>=0.11 in /usr/local/lib/python3.6/dist-packages (from scikit-learn==0.23.2->adversarial-robustness-toolbox) (0.16.0)\n",
            "Requirement already satisfied: future in /usr/local/lib/python3.6/dist-packages (from ffmpeg-python->adversarial-robustness-toolbox) (0.16.0)\n",
            "Requirement already satisfied: pytz>=2017.2 in /usr/local/lib/python3.6/dist-packages (from pandas>=0.19->statsmodels->adversarial-robustness-toolbox) (2018.9)\n",
            "Requirement already satisfied: llvmlite<0.32.0,>=0.31.0dev0 in /usr/local/lib/python3.6/dist-packages (from numba>=0.32->resampy->adversarial-robustness-toolbox) (0.31.0)\n"
          ],
          "name": "stdout"
        }
      ]
    },
    {
      "cell_type": "code",
      "metadata": {
        "id": "KfAJyGc229qs",
        "colab_type": "code",
        "colab": {}
      },
      "source": [
        "import torch.nn as nn\n",
        "import torch.nn.functional as F\n",
        "import torch.optim as optim\n",
        "import numpy as np\n",
        "import torch\n",
        "import torchvision.models as models\n",
        "from torchvision import transforms as T\n",
        "\n",
        "from PIL import Image\n",
        "from art.attacks.evasion import *\n",
        "from art.estimators.classification import PyTorchClassifier\n",
        "\n",
        "transform = T.Compose([            \n",
        " T.Resize(256),                    \n",
        " T.CenterCrop(224),                \n",
        " T.ToTensor(),                     \n",
        " T.Normalize(mean=[0.485, 0.456, 0.406],\n",
        "             std=[0.229, 0.224, 0.225])\n",
        " ])"
      ],
      "execution_count": 68,
      "outputs": []
    },
    {
      "cell_type": "code",
      "metadata": {
        "id": "NpBiUhn_Lugb",
        "colab_type": "code",
        "colab": {}
      },
      "source": [
        "model = models.resnet18(pretrained=True).eval()\n",
        "\n",
        "criterion = nn.CrossEntropyLoss()\n",
        "optimizer = optim.Adam(model.parameters(), lr=0.01)\n",
        "\n",
        "classifier = PyTorchClassifier(\n",
        "    model=model,\n",
        "    clip_values=(0, 1),\n",
        "    loss=criterion,\n",
        "    optimizer=optimizer,\n",
        "    input_shape=(3, 224, 224),\n",
        "    nb_classes=1000,\n",
        ")"
      ],
      "execution_count": null,
      "outputs": []
    },
    {
      "cell_type": "code",
      "metadata": {
        "id": "ECm05812L0h8",
        "colab_type": "code",
        "colab": {}
      },
      "source": [
        "# url, filename = (\"http://www.cs.cornell.edu/courses/cs5670/2019sp/projects/pa5/assignment_data/imagenet_classes.txt\", \"imagenet_classes.txt\")\n",
        "# try: urllib.URLopener().retrieve(url, filename)\n",
        "# except: urllib.request.urlretrieve(url, filename)\n",
        "\n",
        "with open('imagenet_classes.txt') as f:\n",
        "  classes = [line.strip() for line in f.readlines()]"
      ],
      "execution_count": null,
      "outputs": []
    },
    {
      "cell_type": "markdown",
      "metadata": {
        "id": "LbOy_ybJJSQR",
        "colab_type": "text"
      },
      "source": [
        "#Upload Image"
      ]
    },
    {
      "cell_type": "code",
      "metadata": {
        "id": "kmbFakQj3Ehu",
        "colab_type": "code",
        "colab": {}
      },
      "source": [
        "import urllib\n",
        "url, filename = (\"https://www.insidehook.com/wp-content/uploads/2020/04/JetBlue-Airplane.jpg?fit=1500%2C1000\", \"example.jpg\")\n",
        "try: urllib.URLopener().retrieve(url, filename)\n",
        "except: urllib.request.urlretrieve(url, filename)\n",
        "\n",
        "img = Image.open('airplane2.jpg')\n",
        "transformed_img = transform(img)\n",
        "input_img = transformed_img.unsqueeze(0)"
      ],
      "execution_count": 69,
      "outputs": []
    },
    {
      "cell_type": "markdown",
      "metadata": {
        "id": "gQ5N-AJiJVqL",
        "colab_type": "text"
      },
      "source": [
        "#Generate and save Adversarial samples (Choose filename)"
      ]
    },
    {
      "cell_type": "code",
      "metadata": {
        "id": "C7ujdx2v3co7",
        "colab_type": "code",
        "colab": {
          "base_uri": "https://localhost:8080/",
          "height": 69
        },
        "outputId": "783ba9b5-5a49-4c79-de8c-45d221133bd2"
      },
      "source": [
        "\"\"\"\n",
        "e = 0.1\n",
        "for a in range(5):\n",
        "  attack = DeepFool(classifier, epsilon=e)\n",
        "  advx = attack.generate(x=input_img)\n",
        "  e = e+a\n",
        "  rescaled = (advx - advx.min()) / (advx.max() - advx.min())\n",
        "  rescaled = (255*np.transpose(np.squeeze(rescaled))).astype(np.uint8)\n",
        "  rescaled = np.moveaxis(rescaled ,0, 1)\n",
        "  output = Image.fromarray(rescaled)\n",
        "  s = 'XXXXX_DeepFoolPlane' + str(e) + '.png'\n",
        "  output.save(s, 'png')\n",
        "\"\"\""
      ],
      "execution_count": 200,
      "outputs": [
        {
          "output_type": "execute_result",
          "data": {
            "application/vnd.google.colaboratory.intrinsic+json": {
              "type": "string"
            },
            "text/plain": [
              "\"\\ne = 0.1\\nfor a in range(5):\\n  attack = DeepFool(classifier, epsilon=e)\\n  advx = attack.generate(x=input_img)\\n  e = e+a\\n  rescaled = (advx - advx.min()) / (advx.max() - advx.min())\\n  rescaled = (255*np.transpose(np.squeeze(rescaled))).astype(np.uint8)\\n  rescaled = np.moveaxis(rescaled ,0, 1)\\n  output = Image.fromarray(rescaled)\\n  s = 'XXXXX_DeepFoolPlane' + str(e) + '.png'\\n  output.save(s, 'png')\\n\""
            ]
          },
          "metadata": {
            "tags": []
          },
          "execution_count": 200
        }
      ]
    },
    {
      "cell_type": "markdown",
      "metadata": {
        "id": "X8VTBfDjJa9u",
        "colab_type": "text"
      },
      "source": [
        "#Load image to test"
      ]
    },
    {
      "cell_type": "code",
      "metadata": {
        "id": "wMv3Vivk3dEE",
        "colab_type": "code",
        "colab": {}
      },
      "source": [
        "def loadimage(s):\n",
        "  img = Image.open(s)\n",
        "  transformed_img = transform(img)\n",
        "  final_img = transformed_img.unsqueeze(0)\n",
        "  return final_img"
      ],
      "execution_count": 72,
      "outputs": []
    },
    {
      "cell_type": "code",
      "metadata": {
        "id": "WAAIJga2EVa3",
        "colab_type": "code",
        "colab": {
          "base_uri": "https://localhost:8080/",
          "height": 34
        },
        "outputId": "9cfc58be-450b-41de-8579-07b59072add7"
      },
      "source": [
        "name = \"name-of-image-file\"\n",
        "x = loadimage(name)\n",
        "x.shape"
      ],
      "execution_count": 192,
      "outputs": [
        {
          "output_type": "execute_result",
          "data": {
            "text/plain": [
              "torch.Size([1, 3, 224, 224])"
            ]
          },
          "metadata": {
            "tags": []
          },
          "execution_count": 192
        }
      ]
    },
    {
      "cell_type": "markdown",
      "metadata": {
        "id": "lhUnnisLJm5l",
        "colab_type": "text"
      },
      "source": [
        "#Select model for testing"
      ]
    },
    {
      "cell_type": "code",
      "metadata": {
        "id": "BCf9a14cEiaT",
        "colab_type": "code",
        "colab": {}
      },
      "source": [
        "modell = models.resnet18(pretrained=True).eval()\n",
        "output = model(x)"
      ],
      "execution_count": 193,
      "outputs": []
    },
    {
      "cell_type": "markdown",
      "metadata": {
        "id": "rFm2-inEJqR4",
        "colab_type": "text"
      },
      "source": [
        "#Output"
      ]
    },
    {
      "cell_type": "code",
      "metadata": {
        "id": "AKl72H0ME4XJ",
        "colab_type": "code",
        "colab": {
          "base_uri": "https://localhost:8080/",
          "height": 34
        },
        "outputId": "4d043939-fafa-4524-f97f-ed09a75d8beb"
      },
      "source": [
        "_, index = torch.max(output, 1)\n",
        "percentage = torch.nn.functional.softmax(output, dim=1)[0] * 100\n",
        "print(classes[index[0]], percentage[index[0]].item())"
      ],
      "execution_count": 194,
      "outputs": [
        {
          "output_type": "stream",
          "text": [
            "spotlight, spot 46.485382080078125\n"
          ],
          "name": "stdout"
        }
      ]
    },
    {
      "cell_type": "code",
      "metadata": {
        "id": "n9nR3r8GE6dr",
        "colab_type": "code",
        "colab": {
          "base_uri": "https://localhost:8080/",
          "height": 102
        },
        "outputId": "5338b2d8-8cf8-45bb-f092-941d5554a7c2"
      },
      "source": [
        "_, indices = torch.sort(output, descending=True)\n",
        "[(classes[idx], percentage[idx].item()) for idx in indices[0][:5]]"
      ],
      "execution_count": 195,
      "outputs": [
        {
          "output_type": "execute_result",
          "data": {
            "text/plain": [
              "[('spotlight, spot', 46.485382080078125),\n",
              " ('bubble', 12.573700904846191),\n",
              " ('jellyfish', 8.003231048583984),\n",
              " ('traffic light, traffic signal, stoplight', 5.805872917175293),\n",
              " ('matchstick', 5.370112895965576)]"
            ]
          },
          "metadata": {
            "tags": []
          },
          "execution_count": 195
        }
      ]
    },
    {
      "cell_type": "code",
      "metadata": {
        "id": "kg4K4uPyF38h",
        "colab_type": "code",
        "colab": {}
      },
      "source": [
        ""
      ],
      "execution_count": 183,
      "outputs": []
    }
  ]
}