{
  "nbformat": 4,
  "nbformat_minor": 0,
  "metadata": {
    "colab": {
      "name": "AdvGenerator.ipynb",
      "provenance": []
    },
    "kernelspec": {
      "name": "python3",
      "display_name": "Python 3"
    }
  },
  "cells": [
    {
      "cell_type": "code",
      "metadata": {
        "id": "jLOBIMM326k_",
        "colab_type": "code",
        "colab": {
          "base_uri": "https://localhost:8080/",
          "height": 870
        },
        "outputId": "90ecb93c-0dd4-46cb-e71e-c4a7d3b13839"
      },
      "source": [
        "pip install adversarial-robustness-toolbox\n"
      ],
      "execution_count": 1,
      "outputs": [
        {
          "output_type": "stream",
          "text": [
            "Collecting adversarial-robustness-toolbox\n",
            "\u001b[?25l  Downloading https://files.pythonhosted.org/packages/1b/32/58fe1a0a17ccbab0749ef11b704ccd0980b3521edb91f5a3b9d62abbbbd9/adversarial_robustness_toolbox-1.3.3-py3-none-any.whl (654kB)\n",
            "\r\u001b[K     |▌                               | 10kB 10.6MB/s eta 0:00:01\r\u001b[K     |█                               | 20kB 1.8MB/s eta 0:00:01\r\u001b[K     |█▌                              | 30kB 2.2MB/s eta 0:00:01\r\u001b[K     |██                              | 40kB 2.5MB/s eta 0:00:01\r\u001b[K     |██▌                             | 51kB 2.0MB/s eta 0:00:01\r\u001b[K     |███                             | 61kB 2.3MB/s eta 0:00:01\r\u001b[K     |███▌                            | 71kB 2.5MB/s eta 0:00:01\r\u001b[K     |████                            | 81kB 2.7MB/s eta 0:00:01\r\u001b[K     |████▌                           | 92kB 3.0MB/s eta 0:00:01\r\u001b[K     |█████                           | 102kB 2.8MB/s eta 0:00:01\r\u001b[K     |█████▌                          | 112kB 2.8MB/s eta 0:00:01\r\u001b[K     |██████                          | 122kB 2.8MB/s eta 0:00:01\r\u001b[K     |██████▌                         | 133kB 2.8MB/s eta 0:00:01\r\u001b[K     |███████                         | 143kB 2.8MB/s eta 0:00:01\r\u001b[K     |███████▌                        | 153kB 2.8MB/s eta 0:00:01\r\u001b[K     |████████                        | 163kB 2.8MB/s eta 0:00:01\r\u001b[K     |████████▌                       | 174kB 2.8MB/s eta 0:00:01\r\u001b[K     |█████████                       | 184kB 2.8MB/s eta 0:00:01\r\u001b[K     |█████████▌                      | 194kB 2.8MB/s eta 0:00:01\r\u001b[K     |██████████                      | 204kB 2.8MB/s eta 0:00:01\r\u001b[K     |██████████▌                     | 215kB 2.8MB/s eta 0:00:01\r\u001b[K     |███████████                     | 225kB 2.8MB/s eta 0:00:01\r\u001b[K     |███████████▌                    | 235kB 2.8MB/s eta 0:00:01\r\u001b[K     |████████████                    | 245kB 2.8MB/s eta 0:00:01\r\u001b[K     |████████████▌                   | 256kB 2.8MB/s eta 0:00:01\r\u001b[K     |█████████████                   | 266kB 2.8MB/s eta 0:00:01\r\u001b[K     |█████████████▌                  | 276kB 2.8MB/s eta 0:00:01\r\u001b[K     |██████████████                  | 286kB 2.8MB/s eta 0:00:01\r\u001b[K     |██████████████▌                 | 296kB 2.8MB/s eta 0:00:01\r\u001b[K     |███████████████                 | 307kB 2.8MB/s eta 0:00:01\r\u001b[K     |███████████████▌                | 317kB 2.8MB/s eta 0:00:01\r\u001b[K     |████████████████                | 327kB 2.8MB/s eta 0:00:01\r\u001b[K     |████████████████▌               | 337kB 2.8MB/s eta 0:00:01\r\u001b[K     |█████████████████               | 348kB 2.8MB/s eta 0:00:01\r\u001b[K     |█████████████████▌              | 358kB 2.8MB/s eta 0:00:01\r\u001b[K     |██████████████████              | 368kB 2.8MB/s eta 0:00:01\r\u001b[K     |██████████████████▌             | 378kB 2.8MB/s eta 0:00:01\r\u001b[K     |███████████████████             | 389kB 2.8MB/s eta 0:00:01\r\u001b[K     |███████████████████▌            | 399kB 2.8MB/s eta 0:00:01\r\u001b[K     |████████████████████            | 409kB 2.8MB/s eta 0:00:01\r\u001b[K     |████████████████████▌           | 419kB 2.8MB/s eta 0:00:01\r\u001b[K     |█████████████████████           | 430kB 2.8MB/s eta 0:00:01\r\u001b[K     |█████████████████████▌          | 440kB 2.8MB/s eta 0:00:01\r\u001b[K     |██████████████████████          | 450kB 2.8MB/s eta 0:00:01\r\u001b[K     |██████████████████████▌         | 460kB 2.8MB/s eta 0:00:01\r\u001b[K     |███████████████████████         | 471kB 2.8MB/s eta 0:00:01\r\u001b[K     |███████████████████████▌        | 481kB 2.8MB/s eta 0:00:01\r\u001b[K     |████████████████████████        | 491kB 2.8MB/s eta 0:00:01\r\u001b[K     |████████████████████████▌       | 501kB 2.8MB/s eta 0:00:01\r\u001b[K     |█████████████████████████       | 512kB 2.8MB/s eta 0:00:01\r\u001b[K     |█████████████████████████▌      | 522kB 2.8MB/s eta 0:00:01\r\u001b[K     |██████████████████████████      | 532kB 2.8MB/s eta 0:00:01\r\u001b[K     |██████████████████████████▌     | 542kB 2.8MB/s eta 0:00:01\r\u001b[K     |███████████████████████████     | 552kB 2.8MB/s eta 0:00:01\r\u001b[K     |███████████████████████████▌    | 563kB 2.8MB/s eta 0:00:01\r\u001b[K     |████████████████████████████    | 573kB 2.8MB/s eta 0:00:01\r\u001b[K     |████████████████████████████▌   | 583kB 2.8MB/s eta 0:00:01\r\u001b[K     |█████████████████████████████   | 593kB 2.8MB/s eta 0:00:01\r\u001b[K     |█████████████████████████████▌  | 604kB 2.8MB/s eta 0:00:01\r\u001b[K     |██████████████████████████████  | 614kB 2.8MB/s eta 0:00:01\r\u001b[K     |██████████████████████████████▌ | 624kB 2.8MB/s eta 0:00:01\r\u001b[K     |███████████████████████████████ | 634kB 2.8MB/s eta 0:00:01\r\u001b[K     |███████████████████████████████▌| 645kB 2.8MB/s eta 0:00:01\r\u001b[K     |████████████████████████████████| 655kB 2.8MB/s \n",
            "\u001b[?25hRequirement already satisfied: scipy==1.4.1 in /usr/local/lib/python3.6/dist-packages (from adversarial-robustness-toolbox) (1.4.1)\n",
            "Requirement already satisfied: statsmodels in /usr/local/lib/python3.6/dist-packages (from adversarial-robustness-toolbox) (0.10.2)\n",
            "Requirement already satisfied: tqdm in /usr/local/lib/python3.6/dist-packages (from adversarial-robustness-toolbox) (4.41.1)\n",
            "Collecting ffmpeg-python\n",
            "  Downloading https://files.pythonhosted.org/packages/d7/0c/56be52741f75bad4dc6555991fabd2e07b432d333da82c11ad701123888a/ffmpeg_python-0.2.0-py3-none-any.whl\n",
            "Requirement already satisfied: Pillow in /usr/local/lib/python3.6/dist-packages (from adversarial-robustness-toolbox) (7.0.0)\n",
            "Collecting pydub\n",
            "  Downloading https://files.pythonhosted.org/packages/7b/d1/fbfa79371a8cd9bb15c2e3c480d7e6e340ed5cc55005174e16f48418333a/pydub-0.24.1-py2.py3-none-any.whl\n",
            "Collecting cma\n",
            "\u001b[?25l  Downloading https://files.pythonhosted.org/packages/36/c0/0a1c41f7cad0a51e07991cf86423d0e6651d035f1fe7dcff48e8858848f2/cma-3.0.3-py2.py3-none-any.whl (230kB)\n",
            "\u001b[K     |████████████████████████████████| 235kB 13.8MB/s \n",
            "\u001b[?25hRequirement already satisfied: numpy in /usr/local/lib/python3.6/dist-packages (from adversarial-robustness-toolbox) (1.18.5)\n",
            "Requirement already satisfied: matplotlib in /usr/local/lib/python3.6/dist-packages (from adversarial-robustness-toolbox) (3.2.2)\n",
            "Requirement already satisfied: setuptools in /usr/local/lib/python3.6/dist-packages (from adversarial-robustness-toolbox) (49.6.0)\n",
            "Requirement already satisfied: resampy in /usr/local/lib/python3.6/dist-packages (from adversarial-robustness-toolbox) (0.2.2)\n",
            "Collecting mypy\n",
            "\u001b[?25l  Downloading https://files.pythonhosted.org/packages/14/9d/914bb0c71292ffd7e1c9728b9366f9ea34c874f5ca12ac6005a400e4d130/mypy-0.782-cp36-cp36m-manylinux1_x86_64.whl (20.8MB)\n",
            "\u001b[K     |████████████████████████████████| 20.8MB 1.3MB/s \n",
            "\u001b[?25hCollecting scikit-learn==0.23.2\n",
            "\u001b[?25l  Downloading https://files.pythonhosted.org/packages/5c/a1/273def87037a7fb010512bbc5901c31cfddfca8080bc63b42b26e3cc55b3/scikit_learn-0.23.2-cp36-cp36m-manylinux1_x86_64.whl (6.8MB)\n",
            "\u001b[K     |████████████████████████████████| 6.8MB 56.3MB/s \n",
            "\u001b[?25hRequirement already satisfied: six in /usr/local/lib/python3.6/dist-packages (from adversarial-robustness-toolbox) (1.15.0)\n",
            "Requirement already satisfied: patsy>=0.4.0 in /usr/local/lib/python3.6/dist-packages (from statsmodels->adversarial-robustness-toolbox) (0.5.1)\n",
            "Requirement already satisfied: pandas>=0.19 in /usr/local/lib/python3.6/dist-packages (from statsmodels->adversarial-robustness-toolbox) (1.0.5)\n",
            "Requirement already satisfied: future in /usr/local/lib/python3.6/dist-packages (from ffmpeg-python->adversarial-robustness-toolbox) (0.16.0)\n",
            "Requirement already satisfied: pyparsing!=2.0.4,!=2.1.2,!=2.1.6,>=2.0.1 in /usr/local/lib/python3.6/dist-packages (from matplotlib->adversarial-robustness-toolbox) (2.4.7)\n",
            "Requirement already satisfied: kiwisolver>=1.0.1 in /usr/local/lib/python3.6/dist-packages (from matplotlib->adversarial-robustness-toolbox) (1.2.0)\n",
            "Requirement already satisfied: python-dateutil>=2.1 in /usr/local/lib/python3.6/dist-packages (from matplotlib->adversarial-robustness-toolbox) (2.8.1)\n",
            "Requirement already satisfied: cycler>=0.10 in /usr/local/lib/python3.6/dist-packages (from matplotlib->adversarial-robustness-toolbox) (0.10.0)\n",
            "Requirement already satisfied: numba>=0.32 in /usr/local/lib/python3.6/dist-packages (from resampy->adversarial-robustness-toolbox) (0.48.0)\n",
            "Collecting typed-ast<1.5.0,>=1.4.0\n",
            "\u001b[?25l  Downloading https://files.pythonhosted.org/packages/90/ed/5459080d95eb87a02fe860d447197be63b6e2b5e9ff73c2b0a85622994f4/typed_ast-1.4.1-cp36-cp36m-manylinux1_x86_64.whl (737kB)\n",
            "\u001b[K     |████████████████████████████████| 747kB 54.6MB/s \n",
            "\u001b[?25hCollecting mypy-extensions<0.5.0,>=0.4.3\n",
            "  Downloading https://files.pythonhosted.org/packages/5c/eb/975c7c080f3223a5cdaff09612f3a5221e4ba534f7039db34c35d95fa6a5/mypy_extensions-0.4.3-py2.py3-none-any.whl\n",
            "Requirement already satisfied: typing-extensions>=3.7.4 in /usr/local/lib/python3.6/dist-packages (from mypy->adversarial-robustness-toolbox) (3.7.4.3)\n",
            "Requirement already satisfied: joblib>=0.11 in /usr/local/lib/python3.6/dist-packages (from scikit-learn==0.23.2->adversarial-robustness-toolbox) (0.16.0)\n",
            "Collecting threadpoolctl>=2.0.0\n",
            "  Downloading https://files.pythonhosted.org/packages/f7/12/ec3f2e203afa394a149911729357aa48affc59c20e2c1c8297a60f33f133/threadpoolctl-2.1.0-py3-none-any.whl\n",
            "Requirement already satisfied: pytz>=2017.2 in /usr/local/lib/python3.6/dist-packages (from pandas>=0.19->statsmodels->adversarial-robustness-toolbox) (2018.9)\n",
            "Requirement already satisfied: llvmlite<0.32.0,>=0.31.0dev0 in /usr/local/lib/python3.6/dist-packages (from numba>=0.32->resampy->adversarial-robustness-toolbox) (0.31.0)\n",
            "Installing collected packages: ffmpeg-python, pydub, cma, typed-ast, mypy-extensions, mypy, threadpoolctl, scikit-learn, adversarial-robustness-toolbox\n",
            "  Found existing installation: scikit-learn 0.22.2.post1\n",
            "    Uninstalling scikit-learn-0.22.2.post1:\n",
            "      Successfully uninstalled scikit-learn-0.22.2.post1\n",
            "Successfully installed adversarial-robustness-toolbox-1.3.3 cma-3.0.3 ffmpeg-python-0.2.0 mypy-0.782 mypy-extensions-0.4.3 pydub-0.24.1 scikit-learn-0.23.2 threadpoolctl-2.1.0 typed-ast-1.4.1\n"
          ],
          "name": "stdout"
        }
      ]
    },
    {
      "cell_type": "code",
      "metadata": {
        "id": "KfAJyGc229qs",
        "colab_type": "code",
        "colab": {}
      },
      "source": [
        "import torch.nn as nn\n",
        "import torch.nn.functional as F\n",
        "import torch.optim as optim\n",
        "import numpy as np\n",
        "import torch\n",
        "import torchvision.models as models\n",
        "from torchvision import transforms as T\n",
        "\n",
        "from PIL import Image\n",
        "from art.attacks.evasion import *\n",
        "from art.estimators.classification import PyTorchClassifier\n",
        "\n",
        "transform = T.Compose([            \n",
        " T.Resize(256),                    \n",
        " T.CenterCrop(224),                \n",
        " T.ToTensor(),                     \n",
        " T.Normalize(mean=[0.485, 0.456, 0.406],\n",
        "             std=[0.229, 0.224, 0.225])\n",
        " ])"
      ],
      "execution_count": 20,
      "outputs": []
    },
    {
      "cell_type": "code",
      "metadata": {
        "id": "kmbFakQj3Ehu",
        "colab_type": "code",
        "colab": {}
      },
      "source": [
        "import urllib\n",
        "url, filename = (\"https://www.insidehook.com/wp-content/uploads/2020/04/JetBlue-Airplane.jpg?fit=1500%2C1000\", \"example.jpg\")\n",
        "try: urllib.URLopener().retrieve(url, filename)\n",
        "except: urllib.request.urlretrieve(url, filename)\n",
        "\n",
        "img = Image.open('airplane.jpg')\n",
        "transformed_img = transform(img)\n",
        "input_img = transformed_img.unsqueeze(0)"
      ],
      "execution_count": 24,
      "outputs": []
    },
    {
      "cell_type": "code",
      "metadata": {
        "id": "32ywiCIu3G59",
        "colab_type": "code",
        "colab": {}
      },
      "source": [
        "arr = []\n",
        "image_array = np.asarray(img)\n",
        "\n",
        "x = np.moveaxis(image_array, -1, 0)\n",
        "arr.append(x)\n",
        "arr = np.array(arr, dtype = 'float32')\n",
        "z =  np.moveaxis(x, 0, -1)\n"
      ],
      "execution_count": 25,
      "outputs": []
    },
    {
      "cell_type": "code",
      "metadata": {
        "id": "bJWbJGaq3RCa",
        "colab_type": "code",
        "colab": {}
      },
      "source": [
        "model = models.resnet18(pretrained=True)\n",
        "\n",
        "criterion = nn.CrossEntropyLoss()\n",
        "optimizer = optim.Adam(model.parameters(), lr=0.01)\n",
        "\n",
        "classifier = PyTorchClassifier(\n",
        "    model=model,\n",
        "    clip_values=(0, 1),\n",
        "    loss=criterion,\n",
        "    optimizer=optimizer,\n",
        "    input_shape=(3, 224, 224),\n",
        "    nb_classes=1000,\n",
        ")"
      ],
      "execution_count": 26,
      "outputs": []
    },
    {
      "cell_type": "code",
      "metadata": {
        "id": "C7ujdx2v3co7",
        "colab_type": "code",
        "colab": {
          "base_uri": "https://localhost:8080/",
          "height": 102
        },
        "outputId": "d77a26fa-d717-486d-adfb-09b49d24a144"
      },
      "source": [
        "e = 0.01\n",
        "attack = DeepFool(classifier, epsilon=e)\n",
        "advx = attack.generate(x=arr)"
      ],
      "execution_count": 27,
      "outputs": [
        {
          "output_type": "stream",
          "text": [
            "\n",
            "\n",
            "DeepFool:   0%|          | 0/1 [00:00<?, ?it/s]\u001b[A\u001b[A\n",
            "\n",
            "DeepFool: 100%|██████████| 1/1 [01:02<00:00, 62.32s/it]\n"
          ],
          "name": "stderr"
        }
      ]
    },
    {
      "cell_type": "code",
      "metadata": {
        "id": "wMv3Vivk3dEE",
        "colab_type": "code",
        "colab": {}
      },
      "source": [
        "rescaled = (255*np.transpose(advx[0])).astype(np.uint8)\n",
        "inp_img = Image.fromarray(rescaled)\n",
        "s = 'DeepFoolPlane' + str(e) + '.png'\n",
        "inp_img.save(s, 'png')"
      ],
      "execution_count": 28,
      "outputs": []
    },
    {
      "cell_type": "code",
      "metadata": {
        "id": "OUD9YqPk5cne",
        "colab_type": "code",
        "colab": {}
      },
      "source": [
        ""
      ],
      "execution_count": 28,
      "outputs": []
    }
  ]
}