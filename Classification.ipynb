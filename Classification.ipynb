{
  "nbformat": 4,
  "nbformat_minor": 0,
  "metadata": {
    "colab": {
      "name": "Untitled7.ipynb",
      "provenance": []
    },
    "kernelspec": {
      "name": "python3",
      "display_name": "Python 3"
    }
  },
  "cells": [
    {
      "cell_type": "code",
      "metadata": {
        "id": "HlH_zJZaH9bV",
        "colab_type": "code",
        "colab": {}
      },
      "source": [
        "import torch\n",
        "import torchvision.models as models\n",
        "from torchvision import transforms as T\n",
        "\n",
        "from PIL import Image"
      ],
      "execution_count": 1,
      "outputs": []
    },
    {
      "cell_type": "code",
      "metadata": {
        "id": "7NaTkIHBIhKR",
        "colab_type": "code",
        "colab": {
          "base_uri": "https://localhost:8080/",
          "height": 1000
        },
        "outputId": "5d3e9ba2-b3a6-4ef7-f754-557786dc508d"
      },
      "source": [
        "dir(models)"
      ],
      "execution_count": 2,
      "outputs": [
        {
          "output_type": "execute_result",
          "data": {
            "text/plain": [
              "['AlexNet',\n",
              " 'DenseNet',\n",
              " 'GoogLeNet',\n",
              " 'GoogLeNetOutputs',\n",
              " 'Inception3',\n",
              " 'InceptionOutputs',\n",
              " 'MNASNet',\n",
              " 'MobileNetV2',\n",
              " 'ResNet',\n",
              " 'ShuffleNetV2',\n",
              " 'SqueezeNet',\n",
              " 'VGG',\n",
              " '_GoogLeNetOutputs',\n",
              " '_InceptionOutputs',\n",
              " '__builtins__',\n",
              " '__cached__',\n",
              " '__doc__',\n",
              " '__file__',\n",
              " '__loader__',\n",
              " '__name__',\n",
              " '__package__',\n",
              " '__path__',\n",
              " '__spec__',\n",
              " '_utils',\n",
              " 'alexnet',\n",
              " 'densenet',\n",
              " 'densenet121',\n",
              " 'densenet161',\n",
              " 'densenet169',\n",
              " 'densenet201',\n",
              " 'detection',\n",
              " 'googlenet',\n",
              " 'inception',\n",
              " 'inception_v3',\n",
              " 'mnasnet',\n",
              " 'mnasnet0_5',\n",
              " 'mnasnet0_75',\n",
              " 'mnasnet1_0',\n",
              " 'mnasnet1_3',\n",
              " 'mobilenet',\n",
              " 'mobilenet_v2',\n",
              " 'quantization',\n",
              " 'resnet',\n",
              " 'resnet101',\n",
              " 'resnet152',\n",
              " 'resnet18',\n",
              " 'resnet34',\n",
              " 'resnet50',\n",
              " 'resnext101_32x8d',\n",
              " 'resnext50_32x4d',\n",
              " 'segmentation',\n",
              " 'shufflenet_v2_x0_5',\n",
              " 'shufflenet_v2_x1_0',\n",
              " 'shufflenet_v2_x1_5',\n",
              " 'shufflenet_v2_x2_0',\n",
              " 'shufflenetv2',\n",
              " 'squeezenet',\n",
              " 'squeezenet1_0',\n",
              " 'squeezenet1_1',\n",
              " 'utils',\n",
              " 'vgg',\n",
              " 'vgg11',\n",
              " 'vgg11_bn',\n",
              " 'vgg13',\n",
              " 'vgg13_bn',\n",
              " 'vgg16',\n",
              " 'vgg16_bn',\n",
              " 'vgg19',\n",
              " 'vgg19_bn',\n",
              " 'video',\n",
              " 'wide_resnet101_2',\n",
              " 'wide_resnet50_2']"
            ]
          },
          "metadata": {
            "tags": []
          },
          "execution_count": 2
        }
      ]
    },
    {
      "cell_type": "code",
      "metadata": {
        "id": "WTX3brz1I5bm",
        "colab_type": "code",
        "colab": {
          "base_uri": "https://localhost:8080/",
          "height": 120
        },
        "outputId": "be90254f-fce7-4112-d6a8-96c2ec471370"
      },
      "source": [
        "\"\"\"\n",
        "alexnet = models.alexnet(pretrained=True)\n",
        "\n",
        "vgg11 = models.vgg11(pretrained=True)\n",
        "vgg11_bn = models.vgg11_bn(pretrained=True)\n",
        "vgg13 =  models.vgg13(pretrained=True)\n",
        "vgg13_bn = models.vgg13_bn(pretrained=True)\n",
        "vgg19 = models.vgg19(pretrained=True)\n",
        "vgg19_bn = models.vgg19_bn(pretrained=True)\n",
        "\n",
        "\n",
        "resnet18 = models.resnet18(pretrained=True)\n",
        "resnet34 = models.resnet34(pretrained=True)\n",
        "resnet50 = models.resnet50(pretrained=True)\n",
        "resnet101 = models.resnet101(pretrained=True)\n",
        "resnet152 = models.resnet152(pretrained=True)\n",
        "\n",
        "squeezenet1_0 = models.squeezenet1_0(pretrained=True)\n",
        "squeezenet1_1 = models.squeezenet1_1(pretrained=True)\n",
        "\n",
        "d121 = models.densenet121(pretrained=True)\n",
        "d161 = models.densenet161(pretrained=True)\n",
        "d169 = models.densenet169(pretrained=True)\n",
        "d201 = models.densenet201(pretrained=True)\n",
        "\n",
        "\n",
        "inception3 = models.inception_v3(pretrained=True)\n",
        "\n",
        "googlenet = models.googlenet(pretrained=True)\n",
        "inception3 = models.inception_v3(pretrained=True)\n",
        "\n",
        "googlenet = models.googlenet(pretrained=True)\n",
        "\n",
        "mobilenet = models.mobilenet_v2(pretrained=True)\n",
        "\n",
        "resnext101 = models.resnext101_32x8d(pretrained=True)\n",
        "resnext50 = models.resnext50_32x4d(pretrained=True)\n",
        "\n",
        "wideresnet101 = models.wide_resnet101_2(pretrained=True)\n",
        "wideresnet50 = models.wide_resnet50_2(pretrained=True)\n",
        "\n",
        "\n",
        "\n",
        "mobilenet = models.mobilenet_v2(pretrained=True)\n",
        "\n",
        "resnext101 = models.resnext101_32x8d(pretrained=True)\n",
        "resnext50 = models.resnext50_32x4d(pretrained=True)\n",
        "\n",
        "wideresnet101 = models.wide_resnet101_2(pretrained=True)\n",
        "wideresnet50 = models.wide_resnet50_2(pretrained=True)\n",
        "\n",
        "MNASnet0_5 = models.mnasnet0_5(pretrained=True)\n",
        "MNASnet1_0 = models.mnasnet1_0(pretrained=True)\n",
        "\n",
        "\"\"\"\n"
      ],
      "execution_count": 3,
      "outputs": [
        {
          "output_type": "execute_result",
          "data": {
            "application/vnd.google.colaboratory.intrinsic+json": {
              "type": "string"
            },
            "text/plain": [
              "'\\nalexnet = models.alexnet(pretrained=True)\\n\\nvgg11 = models.vgg11(pretrained=True)\\nvgg11_bn = models.vgg11_bn(pretrained=True)\\nvgg13 =  models.vgg13(pretrained=True)\\nvgg13_bn = models.vgg13_bn(pretrained=True)\\nvgg19 = models.vgg19(pretrained=True)\\nvgg19_bn = models.vgg19_bn(pretrained=True)\\n\\n\\nresnet18 = models.resnet18(pretrained=True)\\nresnet34 = models.resnet34(pretrained=True)\\nresnet50 = models.resnet50(pretrained=True)\\nresnet101 = models.resnet101(pretrained=True)\\nresnet152 = models.resnet152(pretrained=True)\\n\\nsqueezenet1_0 = models.squeezenet1_0(pretrained=True)\\nsqueezenet1_1 = models.squeezenet1_1(pretrained=True)\\n\\nd121 = models.densenet121(pretrained=True)\\nd161 = models.densenet161(pretrained=True)\\nd169 = models.densenet169(pretrained=True)\\nd201 = models.densenet201(pretrained=True)\\n\\n\\ninception3 = models.inception_v3(pretrained=True)\\n\\ngooglenet = models.googlenet(pretrained=True)\\ninception3 = models.inception_v3(pretrained=True)\\n\\ngooglenet = models.googlenet(pretrained=True)\\n\\nmobilenet = models.mobilenet_v2(pretrained=True)\\n\\nresnext101 = models.resnext101_32x8d(pretrained=True)\\nresnext50 = models.resnext50_32x4d(pretrained=True)\\n\\nwideresnet101 = models.wide_resnet101_2(pretrained=True)\\nwideresnet50 = models.wide_resnet50_2(pretrained=True)\\n\\n\\n\\nmobilenet = models.mobilenet_v2(pretrained=True)\\n\\nresnext101 = models.resnext101_32x8d(pretrained=True)\\nresnext50 = models.resnext50_32x4d(pretrained=True)\\n\\nwideresnet101 = models.wide_resnet101_2(pretrained=True)\\nwideresnet50 = models.wide_resnet50_2(pretrained=True)\\n\\nMNASnet0_5 = models.mnasnet0_5(pretrained=True)\\nMNASnet1_0 = models.mnasnet1_0(pretrained=True)\\n\\n'"
            ]
          },
          "metadata": {
            "tags": []
          },
          "execution_count": 3
        }
      ]
    },
    {
      "cell_type": "code",
      "metadata": {
        "id": "S5p6L64HLJ6R",
        "colab_type": "code",
        "colab": {}
      },
      "source": [
        "\n",
        "transform = T.Compose([            \n",
        " T.Resize(256),                    \n",
        " T.CenterCrop(224),                \n",
        " T.ToTensor(),                     \n",
        " T.Normalize(mean=[0.485, 0.456, 0.406],\n",
        "             std=[0.229, 0.224, 0.225])\n",
        " ])\n"
      ],
      "execution_count": 4,
      "outputs": []
    },
    {
      "cell_type": "code",
      "metadata": {
        "id": "YRQMFzeHEEfg",
        "colab_type": "code",
        "colab": {}
      },
      "source": [
        "trn = T.Compose([\n",
        "                 T.ToTensor(),\n",
        "            T.Normalize(mean=[0.485, 0.456, 0.406],\n",
        "             std=[0.229, 0.224, 0.225])])"
      ],
      "execution_count": 5,
      "outputs": []
    },
    {
      "cell_type": "code",
      "metadata": {
        "id": "ULXXfcncP0_j",
        "colab_type": "code",
        "colab": {
          "base_uri": "https://localhost:8080/",
          "height": 200
        },
        "outputId": "8b1bd585-e1de-4bb2-d90e-c36bd8df9b2e"
      },
      "source": [
        "img = Image.open(\"tennis.jpeg\")\n",
        "img"
      ],
      "execution_count": 7,
      "outputs": [
        {
          "output_type": "execute_result",
          "data": {
            "image/png": "[encoded data removed]",
            "text/plain": [
              "<PIL.JpegImagePlugin.JpegImageFile image mode=RGB size=275x183 at 0x7F0E2EB0B6D8>"
            ]
          },
          "metadata": {
            "tags": []
          },
          "execution_count": 7
        }
      ]
    },
    {
      "cell_type": "code",
      "metadata": {
        "id": "B-D2-YeDaCo2",
        "colab_type": "code",
        "colab": {}
      },
      "source": [
        "\n",
        "transformed_img = trn(img)\n",
        "input_img = torch.unsqueeze(transformed_img,0)"
      ],
      "execution_count": 8,
      "outputs": []
    },
    {
      "cell_type": "code",
      "metadata": {
        "id": "_QHPVRQN6Lx2",
        "colab_type": "code",
        "colab": {}
      },
      "source": [
        "\n",
        "model = models.alexnet(pretrained=True)"
      ],
      "execution_count": 14,
      "outputs": []
    },
    {
      "cell_type": "code",
      "metadata": {
        "id": "zaxJ-66p6b5o",
        "colab_type": "code",
        "colab": {
          "base_uri": "https://localhost:8080/",
          "height": 34
        },
        "outputId": "4a331110-093c-45ac-d4af-bdf230159a43"
      },
      "source": [
        "output = model(input_img)\n",
        "print(output.shape)"
      ],
      "execution_count": 15,
      "outputs": [
        {
          "output_type": "stream",
          "text": [
            "torch.Size([1, 1000])\n"
          ],
          "name": "stdout"
        }
      ]
    },
    {
      "cell_type": "code",
      "metadata": {
        "id": "8ncYwt_L6hV_",
        "colab_type": "code",
        "colab": {}
      },
      "source": [
        "with open('imagenet_classes.txt') as f:\n",
        "  classes = [line.strip() for line in f.readlines()]\n"
      ],
      "execution_count": 16,
      "outputs": []
    },
    {
      "cell_type": "code",
      "metadata": {
        "id": "uKcPPLxv9YwJ",
        "colab_type": "code",
        "colab": {
          "base_uri": "https://localhost:8080/",
          "height": 34
        },
        "outputId": "be2dac57-5d44-4cd5-fb8a-40bc1d3827ca"
      },
      "source": [
        "_, index = torch.max(output, 1)\n",
        "percentage = torch.nn.functional.softmax(output, dim=1)[0] * 100\n",
        "print(classes[index[0]], percentage[index[0]].item())\n"
      ],
      "execution_count": 17,
      "outputs": [
        {
          "output_type": "stream",
          "text": [
            "tennis ball 99.92438507080078\n"
          ],
          "name": "stdout"
        }
      ]
    },
    {
      "cell_type": "code",
      "metadata": {
        "id": "QXvneQ1m9alA",
        "colab_type": "code",
        "colab": {
          "base_uri": "https://localhost:8080/",
          "height": 102
        },
        "outputId": "4312b085-dfce-4a9f-db08-909eb00ae6fe"
      },
      "source": [
        "_, indices = torch.sort(output, descending=True)\n",
        "[(classes[idx], percentage[idx].item()) for idx in indices[0][:5]]\n"
      ],
      "execution_count": 18,
      "outputs": [
        {
          "output_type": "execute_result",
          "data": {
            "text/plain": [
              "[('tennis ball', 99.92438507080078),\n",
              " ('racket, racquet', 0.021143058314919472),\n",
              " ('acorn', 0.018191080540418625),\n",
              " ('golf ball', 0.004408565349876881),\n",
              " ('Granny Smith', 0.0032543044071644545)]"
            ]
          },
          "metadata": {
            "tags": []
          },
          "execution_count": 18
        }
      ]
    },
    {
      "cell_type": "code",
      "metadata": {
        "id": "tb9fmVZ29dTL",
        "colab_type": "code",
        "colab": {}
      },
      "source": [
        ""
      ],
      "execution_count": 18,
      "outputs": []
    }
  ]
}