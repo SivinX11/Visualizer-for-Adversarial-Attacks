{
  "nbformat": 4,
  "nbformat_minor": 0,
  "metadata": {
    "colab": {
      "name": "WebApp for Image Classifier Visualizer.ipynb",
      "provenance": [],
      "collapsed_sections": []
    },
    "kernelspec": {
      "name": "python3",
      "display_name": "Python 3"
    }
  },
  "cells": [
    {
      "cell_type": "code",
      "metadata": {
        "id": "WGFUa3vwqJT2",
        "colab_type": "code",
        "colab": {
          "base_uri": "https://localhost:8080/",
          "height": 1000
        },
        "outputId": "b0d78dbd-348d-45d8-e779-4b29043a6520"
      },
      "source": [
        "pip install streamlit"
      ],
      "execution_count": null,
      "outputs": [
        {
          "output_type": "stream",
          "text": [
            "Collecting streamlit\n",
            "\u001b[?25l  Downloading https://files.pythonhosted.org/packages/73/f2/03193332b9ced126141f095a7b0b75a1a5f43665aa1e4eb58d7cc0f69977/streamlit-0.66.0-py2.py3-none-any.whl (7.2MB)\n",
            "\u001b[K     |████████████████████████████████| 7.2MB 2.7MB/s \n",
            "\u001b[?25hRequirement already satisfied: packaging in /usr/local/lib/python3.6/dist-packages (from streamlit) (20.4)\n",
            "Collecting base58\n",
            "  Downloading https://files.pythonhosted.org/packages/3c/03/58572025c77b9e6027155b272a1b96298e711cd4f95c24967f7137ab0c4b/base58-2.0.1-py3-none-any.whl\n",
            "Requirement already satisfied: tornado>=5.0 in /usr/local/lib/python3.6/dist-packages (from streamlit) (5.1.1)\n",
            "Requirement already satisfied: numpy in /usr/local/lib/python3.6/dist-packages (from streamlit) (1.18.5)\n",
            "Requirement already satisfied: cachetools>=4.0 in /usr/local/lib/python3.6/dist-packages (from streamlit) (4.1.1)\n",
            "Requirement already satisfied: toml in /usr/local/lib/python3.6/dist-packages (from streamlit) (0.10.1)\n",
            "Requirement already satisfied: boto3 in /usr/local/lib/python3.6/dist-packages (from streamlit) (1.14.48)\n",
            "Collecting enum-compat\n",
            "  Downloading https://files.pythonhosted.org/packages/55/ae/467bc4509246283bb59746e21a1a2f5a8aecbef56b1fa6eaca78cd438c8b/enum_compat-0.0.3-py3-none-any.whl\n",
            "Collecting validators\n",
            "  Downloading https://files.pythonhosted.org/packages/41/4a/3360ff3cf2b4a1b9721ac1fbff5f84663f41047d9874b3aa1ac82e862c44/validators-0.18.1-py3-none-any.whl\n",
            "Collecting blinker\n",
            "\u001b[?25l  Downloading https://files.pythonhosted.org/packages/1b/51/e2a9f3b757eb802f61dc1f2b09c8c99f6eb01cf06416c0671253536517b6/blinker-1.4.tar.gz (111kB)\n",
            "\u001b[K     |████████████████████████████████| 112kB 41.6MB/s \n",
            "\u001b[?25hRequirement already satisfied: astor in /usr/local/lib/python3.6/dist-packages (from streamlit) (0.8.1)\n",
            "Requirement already satisfied: altair>=3.2.0 in /usr/local/lib/python3.6/dist-packages (from streamlit) (4.1.0)\n",
            "Requirement already satisfied: tzlocal in /usr/local/lib/python3.6/dist-packages (from streamlit) (1.5.1)\n",
            "Requirement already satisfied: python-dateutil in /usr/local/lib/python3.6/dist-packages (from streamlit) (2.8.1)\n",
            "Requirement already satisfied: requests in /usr/local/lib/python3.6/dist-packages (from streamlit) (2.23.0)\n",
            "Requirement already satisfied: pillow>=6.2.0 in /usr/local/lib/python3.6/dist-packages (from streamlit) (7.0.0)\n",
            "Requirement already satisfied: pandas>=0.21.0 in /usr/local/lib/python3.6/dist-packages (from streamlit) (1.0.5)\n",
            "Requirement already satisfied: click>=7.0 in /usr/local/lib/python3.6/dist-packages (from streamlit) (7.1.2)\n",
            "Requirement already satisfied: pyarrow in /usr/local/lib/python3.6/dist-packages (from streamlit) (0.14.1)\n",
            "Requirement already satisfied: botocore>=1.13.44 in /usr/local/lib/python3.6/dist-packages (from streamlit) (1.17.48)\n",
            "Collecting watchdog\n",
            "\u001b[?25l  Downloading https://files.pythonhosted.org/packages/0e/06/121302598a4fc01aca942d937f4a2c33430b7181137b35758913a8db10ad/watchdog-0.10.3.tar.gz (94kB)\n",
            "\u001b[K     |████████████████████████████████| 102kB 10.3MB/s \n",
            "\u001b[?25hRequirement already satisfied: protobuf>=3.6.0 in /usr/local/lib/python3.6/dist-packages (from streamlit) (3.12.4)\n",
            "Collecting pydeck>=0.1.dev5\n",
            "\u001b[?25l  Downloading https://files.pythonhosted.org/packages/51/1e/296f4108bf357e684617a776ecaf06ee93b43e30c35996dfac1aa985aa6c/pydeck-0.5.0b1-py2.py3-none-any.whl (4.4MB)\n",
            "\u001b[K     |████████████████████████████████| 4.4MB 41.5MB/s \n",
            "\u001b[?25hRequirement already satisfied: six in /usr/local/lib/python3.6/dist-packages (from packaging->streamlit) (1.15.0)\n",
            "Requirement already satisfied: pyparsing>=2.0.2 in /usr/local/lib/python3.6/dist-packages (from packaging->streamlit) (2.4.7)\n",
            "Requirement already satisfied: s3transfer<0.4.0,>=0.3.0 in /usr/local/lib/python3.6/dist-packages (from boto3->streamlit) (0.3.3)\n",
            "Requirement already satisfied: jmespath<1.0.0,>=0.7.1 in /usr/local/lib/python3.6/dist-packages (from boto3->streamlit) (0.10.0)\n",
            "Requirement already satisfied: decorator>=3.4.0 in /usr/local/lib/python3.6/dist-packages (from validators->streamlit) (4.4.2)\n",
            "Requirement already satisfied: jsonschema in /usr/local/lib/python3.6/dist-packages (from altair>=3.2.0->streamlit) (2.6.0)\n",
            "Requirement already satisfied: jinja2 in /usr/local/lib/python3.6/dist-packages (from altair>=3.2.0->streamlit) (2.11.2)\n",
            "Requirement already satisfied: toolz in /usr/local/lib/python3.6/dist-packages (from altair>=3.2.0->streamlit) (0.10.0)\n",
            "Requirement already satisfied: entrypoints in /usr/local/lib/python3.6/dist-packages (from altair>=3.2.0->streamlit) (0.3)\n",
            "Requirement already satisfied: pytz in /usr/local/lib/python3.6/dist-packages (from tzlocal->streamlit) (2018.9)\n",
            "Requirement already satisfied: chardet<4,>=3.0.2 in /usr/local/lib/python3.6/dist-packages (from requests->streamlit) (3.0.4)\n",
            "Requirement already satisfied: urllib3!=1.25.0,!=1.25.1,<1.26,>=1.21.1 in /usr/local/lib/python3.6/dist-packages (from requests->streamlit) (1.24.3)\n",
            "Requirement already satisfied: certifi>=2017.4.17 in /usr/local/lib/python3.6/dist-packages (from requests->streamlit) (2020.6.20)\n",
            "Requirement already satisfied: idna<3,>=2.5 in /usr/local/lib/python3.6/dist-packages (from requests->streamlit) (2.10)\n",
            "Requirement already satisfied: docutils<0.16,>=0.10 in /usr/local/lib/python3.6/dist-packages (from botocore>=1.13.44->streamlit) (0.15.2)\n",
            "Collecting pathtools>=0.1.1\n",
            "  Downloading https://files.pythonhosted.org/packages/e7/7f/470d6fcdf23f9f3518f6b0b76be9df16dcc8630ad409947f8be2eb0ed13a/pathtools-0.1.2.tar.gz\n",
            "Requirement already satisfied: setuptools in /usr/local/lib/python3.6/dist-packages (from protobuf>=3.6.0->streamlit) (49.6.0)\n",
            "Collecting ipykernel>=5.1.2; python_version >= \"3.4\"\n",
            "\u001b[?25l  Downloading https://files.pythonhosted.org/packages/52/19/c2812690d8b340987eecd2cbc18549b1d130b94c5d97fcbe49f5f8710edf/ipykernel-5.3.4-py3-none-any.whl (120kB)\n",
            "\u001b[K     |████████████████████████████████| 122kB 35.9MB/s \n",
            "\u001b[?25hRequirement already satisfied: traitlets>=4.3.2 in /usr/local/lib/python3.6/dist-packages (from pydeck>=0.1.dev5->streamlit) (4.3.3)\n",
            "Requirement already satisfied: ipywidgets>=7.0.0 in /usr/local/lib/python3.6/dist-packages (from pydeck>=0.1.dev5->streamlit) (7.5.1)\n",
            "Requirement already satisfied: MarkupSafe>=0.23 in /usr/local/lib/python3.6/dist-packages (from jinja2->altair>=3.2.0->streamlit) (1.1.1)\n",
            "Requirement already satisfied: jupyter-client in /usr/local/lib/python3.6/dist-packages (from ipykernel>=5.1.2; python_version >= \"3.4\"->pydeck>=0.1.dev5->streamlit) (5.3.5)\n",
            "Requirement already satisfied: ipython>=5.0.0 in /usr/local/lib/python3.6/dist-packages (from ipykernel>=5.1.2; python_version >= \"3.4\"->pydeck>=0.1.dev5->streamlit) (5.5.0)\n",
            "Requirement already satisfied: ipython-genutils in /usr/local/lib/python3.6/dist-packages (from traitlets>=4.3.2->pydeck>=0.1.dev5->streamlit) (0.2.0)\n",
            "Requirement already satisfied: widgetsnbextension~=3.5.0 in /usr/local/lib/python3.6/dist-packages (from ipywidgets>=7.0.0->pydeck>=0.1.dev5->streamlit) (3.5.1)\n",
            "Requirement already satisfied: nbformat>=4.2.0 in /usr/local/lib/python3.6/dist-packages (from ipywidgets>=7.0.0->pydeck>=0.1.dev5->streamlit) (5.0.7)\n",
            "Requirement already satisfied: pyzmq>=13 in /usr/local/lib/python3.6/dist-packages (from jupyter-client->ipykernel>=5.1.2; python_version >= \"3.4\"->pydeck>=0.1.dev5->streamlit) (19.0.2)\n",
            "Requirement already satisfied: jupyter-core>=4.6.0 in /usr/local/lib/python3.6/dist-packages (from jupyter-client->ipykernel>=5.1.2; python_version >= \"3.4\"->pydeck>=0.1.dev5->streamlit) (4.6.3)\n",
            "Requirement already satisfied: pexpect; sys_platform != \"win32\" in /usr/local/lib/python3.6/dist-packages (from ipython>=5.0.0->ipykernel>=5.1.2; python_version >= \"3.4\"->pydeck>=0.1.dev5->streamlit) (4.8.0)\n",
            "Requirement already satisfied: pickleshare in /usr/local/lib/python3.6/dist-packages (from ipython>=5.0.0->ipykernel>=5.1.2; python_version >= \"3.4\"->pydeck>=0.1.dev5->streamlit) (0.7.5)\n",
            "Requirement already satisfied: pygments in /usr/local/lib/python3.6/dist-packages (from ipython>=5.0.0->ipykernel>=5.1.2; python_version >= \"3.4\"->pydeck>=0.1.dev5->streamlit) (2.1.3)\n",
            "Requirement already satisfied: prompt-toolkit<2.0.0,>=1.0.4 in /usr/local/lib/python3.6/dist-packages (from ipython>=5.0.0->ipykernel>=5.1.2; python_version >= \"3.4\"->pydeck>=0.1.dev5->streamlit) (1.0.18)\n",
            "Requirement already satisfied: simplegeneric>0.8 in /usr/local/lib/python3.6/dist-packages (from ipython>=5.0.0->ipykernel>=5.1.2; python_version >= \"3.4\"->pydeck>=0.1.dev5->streamlit) (0.8.1)\n",
            "Requirement already satisfied: notebook>=4.4.1 in /usr/local/lib/python3.6/dist-packages (from widgetsnbextension~=3.5.0->ipywidgets>=7.0.0->pydeck>=0.1.dev5->streamlit) (5.3.1)\n",
            "Requirement already satisfied: ptyprocess>=0.5 in /usr/local/lib/python3.6/dist-packages (from pexpect; sys_platform != \"win32\"->ipython>=5.0.0->ipykernel>=5.1.2; python_version >= \"3.4\"->pydeck>=0.1.dev5->streamlit) (0.6.0)\n",
            "Requirement already satisfied: wcwidth in /usr/local/lib/python3.6/dist-packages (from prompt-toolkit<2.0.0,>=1.0.4->ipython>=5.0.0->ipykernel>=5.1.2; python_version >= \"3.4\"->pydeck>=0.1.dev5->streamlit) (0.2.5)\n",
            "Requirement already satisfied: Send2Trash in /usr/local/lib/python3.6/dist-packages (from notebook>=4.4.1->widgetsnbextension~=3.5.0->ipywidgets>=7.0.0->pydeck>=0.1.dev5->streamlit) (1.5.0)\n",
            "Requirement already satisfied: nbconvert in /usr/local/lib/python3.6/dist-packages (from notebook>=4.4.1->widgetsnbextension~=3.5.0->ipywidgets>=7.0.0->pydeck>=0.1.dev5->streamlit) (5.6.1)\n",
            "Requirement already satisfied: terminado>=0.8.1 in /usr/local/lib/python3.6/dist-packages (from notebook>=4.4.1->widgetsnbextension~=3.5.0->ipywidgets>=7.0.0->pydeck>=0.1.dev5->streamlit) (0.8.3)\n",
            "Requirement already satisfied: testpath in /usr/local/lib/python3.6/dist-packages (from nbconvert->notebook>=4.4.1->widgetsnbextension~=3.5.0->ipywidgets>=7.0.0->pydeck>=0.1.dev5->streamlit) (0.4.4)\n",
            "Requirement already satisfied: bleach in /usr/local/lib/python3.6/dist-packages (from nbconvert->notebook>=4.4.1->widgetsnbextension~=3.5.0->ipywidgets>=7.0.0->pydeck>=0.1.dev5->streamlit) (3.1.5)\n",
            "Requirement already satisfied: defusedxml in /usr/local/lib/python3.6/dist-packages (from nbconvert->notebook>=4.4.1->widgetsnbextension~=3.5.0->ipywidgets>=7.0.0->pydeck>=0.1.dev5->streamlit) (0.6.0)\n",
            "Requirement already satisfied: pandocfilters>=1.4.1 in /usr/local/lib/python3.6/dist-packages (from nbconvert->notebook>=4.4.1->widgetsnbextension~=3.5.0->ipywidgets>=7.0.0->pydeck>=0.1.dev5->streamlit) (1.4.2)\n",
            "Requirement already satisfied: mistune<2,>=0.8.1 in /usr/local/lib/python3.6/dist-packages (from nbconvert->notebook>=4.4.1->widgetsnbextension~=3.5.0->ipywidgets>=7.0.0->pydeck>=0.1.dev5->streamlit) (0.8.4)\n",
            "Requirement already satisfied: webencodings in /usr/local/lib/python3.6/dist-packages (from bleach->nbconvert->notebook>=4.4.1->widgetsnbextension~=3.5.0->ipywidgets>=7.0.0->pydeck>=0.1.dev5->streamlit) (0.5.1)\n",
            "Building wheels for collected packages: blinker, watchdog, pathtools\n",
            "  Building wheel for blinker (setup.py) ... \u001b[?25l\u001b[?25hdone\n",
            "  Created wheel for blinker: filename=blinker-1.4-cp36-none-any.whl size=13450 sha256=f855e886c8ef5cb1ba1d0b000fc685e88bf0224d2fc8747d6b90ae65a3d7c27a\n",
            "  Stored in directory: /root/.cache/pip/wheels/92/a0/00/8690a57883956a301d91cf4ec999cc0b258b01e3f548f86e89\n",
            "  Building wheel for watchdog (setup.py) ... \u001b[?25l\u001b[?25hdone\n",
            "  Created wheel for watchdog: filename=watchdog-0.10.3-cp36-none-any.whl size=73873 sha256=320824442f4ebf1df2451ff7bddd0c7477d2503f39254ce6ded8e7ec4cdeaadd\n",
            "  Stored in directory: /root/.cache/pip/wheels/a8/1d/38/2c19bb311f67cc7b4d07a2ec5ea36ab1a0a0ea50db994a5bc7\n",
            "  Building wheel for pathtools (setup.py) ... \u001b[?25l\u001b[?25hdone\n",
            "  Created wheel for pathtools: filename=pathtools-0.1.2-cp36-none-any.whl size=8785 sha256=30c00e9641ab1d944812482b094e6c605b932d2053b107339e2345ea6dbc0893\n",
            "  Stored in directory: /root/.cache/pip/wheels/0b/04/79/c3b0c3a0266a3cb4376da31e5bfe8bba0c489246968a68e843\n",
            "Successfully built blinker watchdog pathtools\n",
            "\u001b[31mERROR: google-colab 1.0.0 has requirement ipykernel~=4.10, but you'll have ipykernel 5.3.4 which is incompatible.\u001b[0m\n",
            "Installing collected packages: base58, enum-compat, validators, blinker, pathtools, watchdog, ipykernel, pydeck, streamlit\n",
            "  Found existing installation: ipykernel 4.10.1\n",
            "    Uninstalling ipykernel-4.10.1:\n",
            "      Successfully uninstalled ipykernel-4.10.1\n",
            "Successfully installed base58-2.0.1 blinker-1.4 enum-compat-0.0.3 ipykernel-5.3.4 pathtools-0.1.2 pydeck-0.5.0b1 streamlit-0.66.0 validators-0.18.1 watchdog-0.10.3\n"
          ],
          "name": "stdout"
        },
        {
          "output_type": "display_data",
          "data": {
            "application/vnd.colab-display-data+json": {
              "pip_warning": {
                "packages": [
                  "ipykernel"
                ]
              }
            }
          },
          "metadata": {
            "tags": []
          }
        }
      ]
    },
    {
      "cell_type": "code",
      "metadata": {
        "id": "lfIdPuA1hMJe",
        "colab_type": "code",
        "colab": {}
      },
      "source": [
        "+streamlit\n",
        "+pyngrok\n",
        "+nohub/background"
      ],
      "execution_count": null,
      "outputs": []
    },
    {
      "cell_type": "code",
      "metadata": {
        "id": "DOeNk2oMhr69",
        "colab_type": "code",
        "colab": {}
      },
      "source": [
        "!pip install streamlit"
      ],
      "execution_count": null,
      "outputs": []
    },
    {
      "cell_type": "code",
      "metadata": {
        "id": "nFUaCSZah4Qe",
        "colab_type": "code",
        "colab": {
          "base_uri": "https://localhost:8080/",
          "height": 68
        },
        "outputId": "464167d2-cf66-4790-e533-2e68a267d828"
      },
      "source": [
        "!pip install pyngrok"
      ],
      "execution_count": null,
      "outputs": [
        {
          "output_type": "stream",
          "text": [
            "Requirement already satisfied: pyngrok in /usr/local/lib/python3.6/dist-packages (4.1.12)\n",
            "Requirement already satisfied: PyYAML in /usr/local/lib/python3.6/dist-packages (from pyngrok) (3.13)\n",
            "Requirement already satisfied: future in /usr/local/lib/python3.6/dist-packages (from pyngrok) (0.16.0)\n"
          ],
          "name": "stdout"
        }
      ]
    },
    {
      "cell_type": "code",
      "metadata": {
        "id": "1Z2jHgi8B3jX",
        "colab_type": "code",
        "colab": {
          "base_uri": "https://localhost:8080/",
          "height": 204
        },
        "outputId": "3706894b-fc95-4e48-f635-27e04220f37b"
      },
      "source": [
        "!wget https://raw.githubusercontent.com/TanmayKhot/Fluorine/master/imagenet_classes.txt"
      ],
      "execution_count": null,
      "outputs": [
        {
          "output_type": "stream",
          "text": [
            "--2020-09-12 04:03:50--  https://raw.githubusercontent.com/TanmayKhot/Fluorine/master/imagenet_classes.txt\n",
            "Resolving raw.githubusercontent.com (raw.githubusercontent.com)... 151.101.0.133, 151.101.64.133, 151.101.128.133, ...\n",
            "Connecting to raw.githubusercontent.com (raw.githubusercontent.com)|151.101.0.133|:443... connected.\n",
            "HTTP request sent, awaiting response... 200 OK\n",
            "Length: 21675 (21K) [text/plain]\n",
            "Saving to: ‘imagenet_classes.txt’\n",
            "\n",
            "imagenet_classes.tx 100%[===================>]  21.17K  --.-KB/s    in 0.004s  \n",
            "\n",
            "2020-09-12 04:03:50 (5.67 MB/s) - ‘imagenet_classes.txt’ saved [21675/21675]\n",
            "\n"
          ],
          "name": "stdout"
        }
      ]
    },
    {
      "cell_type": "code",
      "metadata": {
        "id": "RFqPmycxiDE7",
        "colab_type": "code",
        "colab": {
          "base_uri": "https://localhost:8080/",
          "height": 34
        },
        "outputId": "80a67f7d-a890-4eac-eb9c-5989c6150ac9"
      },
      "source": [
        "%%writefile main.py\n",
        "import streamlit as st\n",
        "PAGE_CONFIG = {\"page_title\":\"Image Classifier Visualizer with Adv Attacks.io\", \"page_icon\":\":smiley:\", \"layout\":\"centered\"}\n",
        "st.beta_set_page_config(**PAGE_CONFIG)\n",
        "import time\n",
        "import torch\n",
        "import torchvision.models as models\n",
        "from PIL import Image\n",
        "import joblib\n",
        "\n",
        "with open('imagenet_classes.txt') as f:\n",
        "  classes = [line.strip() for line in f.readlines()]\n",
        "st.set_option('deprecation.showfileUploaderEncoding', False)\n",
        "html_temp = '''\n",
        "    <div>\n",
        "    <center><h1>Image Classifier</h1></center>\n",
        "    <center><h2>with</h2></center>\n",
        "    <center><h1>Adversarial Attack Visualizer</h1></center>\n",
        "    <h1></h1>\n",
        "    </div>\n",
        "    '''\n",
        "st.markdown(html_temp, unsafe_allow_html=True)\n",
        "import base64\n",
        " \n",
        "def get_base64_of_bin_file(bin_file):\n",
        "    with open(bin_file, 'rb') as f:\n",
        "        data = f.read()\n",
        "    return base64.b64encode(data).decode()\n",
        " \n",
        "def set_png_as_page_bg(jpg_file):\n",
        "    bin_str = get_base64_of_bin_file(jpg_file)\n",
        "    page_bg_img = '''\n",
        "    <style>\n",
        "    body {\n",
        "    background-image: url(\"data:image/jpg;base64,%s\");\n",
        "    background-size: cover;\n",
        "    }\n",
        "    </style>\n",
        "    ''' % bin_str\n",
        "    st.markdown(page_bg_img, unsafe_allow_html=True)\n",
        "    return\n",
        " \n",
        "set_png_as_page_bg('nbgr.jpg')\n",
        " \n",
        "def classify(model, image, classes, model_select):\n",
        "  model.eval()\n",
        "  from torchvision import transforms\n",
        "  \n",
        "  preprocess = transforms.Compose([\n",
        "    transforms.Resize(256),\n",
        "    transforms.CenterCrop(224),\n",
        "    transforms.ToTensor(),\n",
        "    transforms.Normalize(mean=[0.485, 0.456, 0.406], std=[0.229, 0.224, 0.225]),\n",
        "  ])\n",
        "  input_tensor = preprocess(image)\n",
        "  input_batch = input_tensor.unsqueeze(0) # create a mini-batch as expected by the model\n",
        " \n",
        "  # move the input and model to GPU for speed if available\n",
        "  if torch.cuda.is_available():\n",
        "    input_batch = input_batch.to('cuda')\n",
        "    model.to('cuda')\n",
        "  with torch.no_grad():\n",
        "    output = model(input_batch)\n",
        "  _, index = torch.max(output, 1)\n",
        "  percentage = torch.nn.functional.softmax(output, dim=1)[0] * 100\n",
        "  \n",
        "  with st.spinner('Classifying... Please Wait!'):\n",
        "    time.sleep(3)\n",
        "  \n",
        "  st.write(\"Hey!\", model_select,\"has classified your image as a\",classes[index[0]],\"with confidence\",percentage[index[0]].item())\n",
        " \n",
        " \n",
        " \n",
        "select =  st.sidebar.selectbox('',('Home','Image Classifier','Image Classifier with Adversarial Attack Visualizer'))\n",
        "progress_bar = st.sidebar.progress(0)\n",
        "status_text = st.sidebar.empty()\n",
        "for i in range(1,101):\n",
        "  status_text.text(\"%i%% Complete\" % i)\n",
        "  progress_bar.progress(i)\n",
        "  time.sleep(0.04)\n",
        "progress_bar.empty()\n",
        "time.sleep(1.5)\n",
        "status_text.empty()\n",
        "if select == 'Image Classifier':\n",
        "    model_select = st.sidebar.selectbox('Please select a Model from the list',('','AlexNet', 'DenseNet', 'ResNet','VGG'))\n",
        "    html_temp = '''\n",
        "    <div>\n",
        "    <center><h3>Please enter Image for Classification</h3></center>\n",
        "    </div>\n",
        "    '''\n",
        "    st.markdown(html_temp, unsafe_allow_html=True)\n",
        "    opt = st.selectbox(\"How do you want to upload the image for classification?\\n\", ('Please Select', 'Upload image via link', 'Upload image from device'))\n",
        " \n",
        "    if opt == 'Upload image from device':\n",
        "    \n",
        "        file = st.file_uploader('Select', type = ['jpg', 'png'])\n",
        "        \n",
        "        st.set_option('deprecation.showfileUploaderEncoding', False)\n",
        "        if file is not None:\n",
        "            image = Image.open(file)\n",
        "            \n",
        "            if model_select == 'VGG':\n",
        "              model = models.vgg16(pretrained=True)\n",
        "              st.image(image, width = 300, caption = 'Uploaded Image')\n",
        "              classify(model, image, classes, model_select)\n",
        "            elif model_select == 'AlexNet':\n",
        "              model = models.alexnet(pretrained=True)\n",
        "              st.image(image, width = 300, caption = 'Uploaded Image')\n",
        "              classify(model, image, classes, model_select)\n",
        "            elif model_select == 'DenseNet':\n",
        "              model = models.densenet121(pretrained=True)\n",
        "              st.image(image, width = 300, caption = 'Uploaded Image')\n",
        "              classify(model, image, classes, model_select)\n",
        "            elif model_select == 'ResNet':\n",
        "              model = models.resnet101(pretrained=True)\n",
        "              st.image(image, width = 300, caption = 'Uploaded Image')\n",
        "              classify(model, image, classes, model_select)\n",
        "    if opt == 'Upload image via link':\n",
        "        img = st.text_input('Enter the Image Address')\n",
        "        if st.button('Submit'):\n",
        "            import urllib.request\n",
        "            image = Image.open(urllib.request.urlopen(img))\n",
        "            if model_select == 'VGG':\n",
        "              model = models.vgg16(pretrained=True)\n",
        "              st.image(image, width = 300, caption = 'Uploaded Image')\n",
        "              classify(model, image, classes, model_select)\n",
        "            elif model_select == 'AlexNet':\n",
        "              model = models.alexnet(pretrained=True)\n",
        "              st.image(image, width = 300, caption = 'Uploaded Image')\n",
        "              classify(model, image, classes, model_select)\n",
        "            elif model_select == 'DenseNet':\n",
        "              model = models.densenet121(pretrained=True)\n",
        "              st.image(image, width = 300, caption = 'Uploaded Image')\n",
        "              classify(model, image, classes, model_select)\n",
        "            elif model_select == 'ResNet':\n",
        "              model = models.resnet101(pretrained=True)\n",
        "              st.image(image, width = 300, caption = 'Uploaded Image')\n",
        "              classify(model, image, classes, model_select)\n",
        "            \n",
        " \n",
        "    if opt == \"Please Select\":\n",
        "        pass\n",
        " \n",
        "if select == 'Image Classifier with Adversarial Attack Visualizer':    \n",
        "    model_select = st.sidebar.selectbox('Please select a Model from the list:',('','AlexNet', 'DenseNet', 'ResNet','VGG'))\n",
        "    attack_select = st.sidebar.selectbox('Please select an Adversarial Attack from the list:',('','Adv1','Adv2')) \n",
        "    epsilon = st.sidebar.slider('Enter Epsilon value:',0,1)\n",
        "    \n",
        "    html_temp = '''\n",
        "    <div>\n",
        "    <center><h3>Please enter Image for Classification</h3></center>\n",
        "    </div>\n",
        "    '''\n",
        "    st.markdown(html_temp, unsafe_allow_html=True)\n",
        "    opt = st.selectbox(\"How do you want to upload the image for classification?\\n\", ('Please Select', 'Upload image via link', 'Upload image from device'))\n",
        " \n",
        "    if opt == 'Upload image from device':\n",
        "    \n",
        "        file = st.file_uploader('Select', type = ['jpg', 'png'])\n",
        " \n",
        "        st.set_option('deprecation.showfileUploaderEncoding', False)\n",
        "        if file is not None:\n",
        "            image = Image.open(file)\n",
        "            if model_select == 'VGG':\n",
        "              model = models.vgg16(pretrained=True)\n",
        "              st.image(image, width = 300, caption = 'Uploaded Image')\n",
        "              classify(model, image, classes, model_select)\n",
        "            elif model_select == 'AlexNet':\n",
        "              model = models.alexnet(pretrained=True)\n",
        "              st.image(image, width = 300, caption = 'Uploaded Image')\n",
        "              classify(model, image, classes, model_select)\n",
        "            elif model_select == 'DenseNet':\n",
        "              model = models.densenet121(pretrained=True)\n",
        "              st.image(image, width = 300, caption = 'Uploaded Image')\n",
        "              classify(model, image, classes, model_select)\n",
        "            elif model_select == 'ResNet':\n",
        "              model = models.resnet101(pretrained=True)\n",
        "              st.image(image, width = 300, caption = 'Uploaded Image')\n",
        "              classify(model, image, classes, model_select)\n",
        "    if opt == 'Upload image via link':\n",
        "        img = st.text_input('Enter the Image Address')\n",
        "        if st.button('Submit'):\n",
        "            import urllib.request\n",
        "            image = Image.open(urllib.request.urlopen(img))\n",
        "            st.image(image, width = 300, caption = 'Uploaded Image')\n",
        "        if model_select == 'VGG':\n",
        "            model = models.vgg16(pretrained=True)\n",
        "            classify(model, image, classes, model_select)\n",
        "        elif model_select == 'AlexNet':\n",
        "            model = models.alexnet(pretrained=True)\n",
        "            classify(model, image, classes, model_select)\n",
        "        elif model_select == 'DenseNet':\n",
        "            model = models.densenet121(pretrained=True)\n",
        "            classify(model, image, classes, model_select)\n",
        "        elif model_select == 'ResNet':\n",
        "            model = models.resnet101(pretrained=True)\n",
        "            classify(model, image, classes, model_select)\n",
        "    if opt == \"Please Select\":\n",
        "        pass\n",
        " \n",
        "if select == 'Home':\n",
        "    \n",
        "    html_temp = '''\n",
        "    <div style = \"background-color: rgba(25,25,112,0.20); padding: 20px; padding-bottom: 30px; padding-left: 20px; padding-right: 20px\">\n",
        "    <center><h2>Hey there!!! Welcome! &#x1F609;</h2></center>\n",
        "    <h1></h1>\n",
        "    <center><h3>Enter any image of your choice and our models will classify it for you.</h3></center>\n",
        "    <center><h4>Wait.. There's more to it</h4></center>\n",
        "    <center><h3>Select an Adversarial Attack of your choice to get wierdly exciting results!!!</h3></center>\n",
        "    <h3></h3>\n",
        "    <center><h4>To know more about Image Classifier with PyTorch click <a href = \"https://towardsdatascience.com/how-to-train-an-image-classifier-in-pytorch-and-use-it-to-perform-basic-inference-on-single-images-99465a1e9bf5\"  target=\"_blank\">here</a>.</h4></center> \n",
        "    <center><h4>To know more about Adversarial Attacks click <a href = \"https://towardsdatascience.com/breaking-neural-networks-with-adversarial-attacks-f4290a9a45aa\"  target=\"_blank\">here</a>.</h4></center>\n",
        "     \n",
        "    </div>\n",
        "    '''\n",
        "    st.markdown(html_temp, unsafe_allow_html=True)"
      ],
      "execution_count": null,
      "outputs": [
        {
          "output_type": "stream",
          "text": [
            "Overwriting main.py\n"
          ],
          "name": "stdout"
        }
      ]
    },
    {
      "cell_type": "code",
      "metadata": {
        "id": "WCx-FU36-gX-",
        "colab_type": "code",
        "colab": {}
      },
      "source": [
        ""
      ],
      "execution_count": null,
      "outputs": []
    },
    {
      "cell_type": "code",
      "metadata": {
        "id": "G0uIxAYX8A4e",
        "colab_type": "code",
        "colab": {}
      },
      "source": [
        "\n",
        "  "
      ],
      "execution_count": null,
      "outputs": []
    },
    {
      "cell_type": "code",
      "metadata": {
        "id": "LVER8VbDr_m5",
        "colab_type": "code",
        "colab": {
          "base_uri": "https://localhost:8080/",
          "height": 51
        },
        "outputId": "8e342f9e-1948-400c-ab8e-c962de8a99dd"
      },
      "source": [
        "!ls"
      ],
      "execution_count": null,
      "outputs": [
        {
          "output_type": "stream",
          "text": [
            "Classification_with_VGG16.hdf5\tmain.py   sample_data\n",
            "imagenet_classes.txt\t\tnbgr.jpg\n"
          ],
          "name": "stdout"
        }
      ]
    },
    {
      "cell_type": "code",
      "metadata": {
        "id": "vRlXL1GRsHv6",
        "colab_type": "code",
        "colab": {
          "base_uri": "https://localhost:8080/",
          "height": 34
        },
        "outputId": "07101c4d-932e-4b05-93c2-850aa9a412c8"
      },
      "source": [
        "!ngrok authtoken 1hE95HY9G1doEqBjcAX1YYkmGLs_4bUKc6kusoP8iGEQRKjfi"
      ],
      "execution_count": 53,
      "outputs": [
        {
          "output_type": "stream",
          "text": [
            "Authtoken saved to configuration file: /root/.ngrok2/ngrok.yml\n"
          ],
          "name": "stdout"
        }
      ]
    },
    {
      "cell_type": "code",
      "metadata": {
        "id": "atKYCBnAvjBt",
        "colab_type": "code",
        "colab": {}
      },
      "source": [
        "from pyngrok import ngrok"
      ],
      "execution_count": null,
      "outputs": []
    },
    {
      "cell_type": "code",
      "metadata": {
        "id": "eqNUHZImkGZe",
        "colab_type": "code",
        "colab": {}
      },
      "source": [
        "!streamlit run main.py&>/dev/null&"
      ],
      "execution_count": 54,
      "outputs": []
    },
    {
      "cell_type": "code",
      "metadata": {
        "id": "4PSXqvqpnAbU",
        "colab_type": "code",
        "colab": {}
      },
      "source": [
        ""
      ],
      "execution_count": null,
      "outputs": []
    },
    {
      "cell_type": "code",
      "metadata": {
        "id": "hGG_8mlVkkok",
        "colab_type": "code",
        "colab": {}
      },
      "source": [
        "!pgrep streamlit"
      ],
      "execution_count": 55,
      "outputs": []
    },
    {
      "cell_type": "code",
      "metadata": {
        "id": "UzW-bYK8j7kf",
        "colab_type": "code",
        "colab": {}
      },
      "source": [
        "publ_url = ngrok.connect(port='8501')"
      ],
      "execution_count": null,
      "outputs": []
    },
    {
      "cell_type": "code",
      "metadata": {
        "id": "KFNQr0DXrCoA",
        "colab_type": "code",
        "colab": {}
      },
      "source": [
        "ngrok.kill()\n"
      ],
      "execution_count": null,
      "outputs": []
    },
    {
      "cell_type": "code",
      "metadata": {
        "id": "J9r7r4SAk3FF",
        "colab_type": "code",
        "colab": {
          "base_uri": "https://localhost:8080/",
          "height": 35
        },
        "outputId": "e3a8d666-94c0-41c4-a021-a9a1ee66ed3e"
      },
      "source": [
        "publ_url\n"
      ],
      "execution_count": null,
      "outputs": [
        {
          "output_type": "execute_result",
          "data": {
            "application/vnd.google.colaboratory.intrinsic+json": {
              "type": "string"
            },
            "text/plain": [
              "'http://5571dc5a6051.ngrok.io'"
            ]
          },
          "metadata": {
            "tags": []
          },
          "execution_count": 10
        }
      ]
    }
  ]
}